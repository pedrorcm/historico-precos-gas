{
 "cells": [
  {
   "attachments": {},
   "cell_type": "markdown",
   "metadata": {},
   "source": [
    "# Objetivo - Fazer um comparativo do poder de compra do gás em relação ao salário mínimo de cada ano"
   ]
  },
  {
   "cell_type": "code",
   "execution_count": 1,
   "metadata": {},
   "outputs": [],
   "source": [
    "import os\n",
    "import csv\n",
    "import time\n",
    "import requests\n",
    "import datetime\n",
    "import numpy as np\n",
    "import pandas as pd\n",
    "import seaborn as sns\n",
    "import urllib.request\n",
    "import matplotlib.pyplot as plt\n",
    "import matplotlib.dates as mdates\n",
    "\n",
    "from glob import glob\n",
    "from selenium import webdriver\n",
    "from selenium.webdriver.common.by import By\n",
    "from selenium.webdriver.chrome.options import Options\n",
    "\n"
   ]
  },
  {
   "attachments": {},
   "cell_type": "markdown",
   "metadata": {},
   "source": [
    "# Preparando dados"
   ]
  },
  {
   "attachments": {},
   "cell_type": "markdown",
   "metadata": {},
   "source": [
    "## GLP"
   ]
  },
  {
   "attachments": {},
   "cell_type": "markdown",
   "metadata": {},
   "source": [
    "### Coletando dados"
   ]
  },
  {
   "cell_type": "code",
   "execution_count": 2,
   "metadata": {},
   "outputs": [],
   "source": [
    "def downloading_data():\n",
    "  url = 'https://dados.gov.br/dados/conjuntos-dados/serie-historica-de-precos-de-combustiveis-por-revenda'\n",
    "\n",
    "  options= Options()\n",
    "  options.add_experimental_option(\"prefs\", {'download.default_directory':r\"C:\\dados\\GasHistorica\\Data\"}) #Pasta de destino dos downloads (Alterar se necessário)\n",
    "\n",
    "  driver = webdriver.Chrome(options=options)\n",
    "  driver.get(url=url)\n",
    "  time.sleep(2)\n",
    "\n",
    "  driver.find_elements(By.ID, 'btnCollapse')[2].click() # Clicando em \"Recursos\"\n",
    "\n",
    "  lista_de_recursos = driver.find_elements(By.CLASS_NAME, \"col-10\") # Lista de todos os recursos\n",
    "  \n",
    "  # Loop iterando os elementos em busca dos que contém GLP.\n",
    "\n",
    "  for divisoria in lista_de_recursos: \n",
    "    if 'GLP' in divisoria.text:\n",
    "      divisoria.find_element(By.ID, 'btnDownloadUrl').click() #Clicando no botão de download para cada elemento que contém \"GLP\"\n",
    "      time.sleep(20)\n",
    "\n",
    "\n",
    "  driver.quit()"
   ]
  },
  {
   "cell_type": "code",
   "execution_count": 3,
   "metadata": {},
   "outputs": [],
   "source": [
    "#downloading_data()"
   ]
  },
  {
   "attachments": {},
   "cell_type": "markdown",
   "metadata": {},
   "source": [
    "________"
   ]
  },
  {
   "attachments": {},
   "cell_type": "markdown",
   "metadata": {},
   "source": [
    "### Criação e limpeza e tratamento dos dataframe de gás"
   ]
  },
  {
   "cell_type": "code",
   "execution_count": 4,
   "metadata": {},
   "outputs": [],
   "source": [
    "# Para criar um único dataframe com todos os dados recolhidos, criamos uma lista com o glob() que nos retorna o caminho dos arquivos."
   ]
  },
  {
   "cell_type": "code",
   "execution_count": 5,
   "metadata": {},
   "outputs": [],
   "source": [
    "path = r'C:\\dados\\GasHistorica\\Data'\n",
    "\n",
    "all_files = glob(os.path.join(path, \"*.csv\"))"
   ]
  },
  {
   "cell_type": "code",
   "execution_count": 6,
   "metadata": {},
   "outputs": [
    {
     "name": "stderr",
     "output_type": "stream",
     "text": [
      "C:\\Users\\peyq\\AppData\\Local\\Temp\\ipykernel_4072\\691533866.py:3: DtypeWarning: Columns (13) have mixed types. Specify dtype option on import or set low_memory=False.\n",
      "  gas_dataframe = pd.concat((pd.read_csv(file,sep=';', encoding='latin-1') for file in all_files))\n"
     ]
    }
   ],
   "source": [
    "# Com isso, lemos cada um dos caminhos do csv e passamos para o concat, unindo todos os DF's em um único.\n",
    "\n",
    "gas_dataframe = pd.concat((pd.read_csv(file,sep=';', encoding='latin-1') for file in all_files))"
   ]
  },
  {
   "cell_type": "code",
   "execution_count": 7,
   "metadata": {},
   "outputs": [],
   "source": [
    "# Como os arquivos do ano de 2022 estão em dois formatos, csv's mensais e o primeiro semestre de 2022, algumas entradas estão repetidas (2022.1 ~ 2022.6).\n",
    "# Para evitar essas repetições, droparei as linhas repetidas:"
   ]
  },
  {
   "cell_type": "code",
   "execution_count": 8,
   "metadata": {},
   "outputs": [
    {
     "data": {
      "text/html": [
       "<div>\n",
       "<style scoped>\n",
       "    .dataframe tbody tr th:only-of-type {\n",
       "        vertical-align: middle;\n",
       "    }\n",
       "\n",
       "    .dataframe tbody tr th {\n",
       "        vertical-align: top;\n",
       "    }\n",
       "\n",
       "    .dataframe thead th {\n",
       "        text-align: right;\n",
       "    }\n",
       "</style>\n",
       "<table border=\"1\" class=\"dataframe\">\n",
       "  <thead>\n",
       "    <tr style=\"text-align: right;\">\n",
       "      <th></th>\n",
       "      <th>ï»¿Regiao - Sigla</th>\n",
       "      <th>Estado - Sigla</th>\n",
       "      <th>Municipio</th>\n",
       "      <th>Revenda</th>\n",
       "      <th>CNPJ da Revenda</th>\n",
       "      <th>Nome da Rua</th>\n",
       "      <th>Numero Rua</th>\n",
       "      <th>Complemento</th>\n",
       "      <th>Bairro</th>\n",
       "      <th>Cep</th>\n",
       "      <th>Produto</th>\n",
       "      <th>Data da Coleta</th>\n",
       "      <th>Valor de Venda</th>\n",
       "      <th>Valor de Compra</th>\n",
       "      <th>Unidade de Medida</th>\n",
       "      <th>Bandeira</th>\n",
       "      <th>Regiao - Sigla</th>\n",
       "    </tr>\n",
       "  </thead>\n",
       "  <tbody>\n",
       "    <tr>\n",
       "      <th>0</th>\n",
       "      <td>SE</td>\n",
       "      <td>SP</td>\n",
       "      <td>SAO VICENTE</td>\n",
       "      <td>CONSIGAZ DISTRIBUIDORA DE GÃS LTDA.</td>\n",
       "      <td>01.597.589/0003-81</td>\n",
       "      <td>RUA MANOEL DE ABREU</td>\n",
       "      <td>790</td>\n",
       "      <td>QUADRA 108</td>\n",
       "      <td>CIDADE NAUTICA</td>\n",
       "      <td>11355-400</td>\n",
       "      <td>GLP</td>\n",
       "      <td>03/01/2022</td>\n",
       "      <td>97,99</td>\n",
       "      <td>NaN</td>\n",
       "      <td>R$ / 13 kg</td>\n",
       "      <td>CONSIGAZ</td>\n",
       "      <td>NaN</td>\n",
       "    </tr>\n",
       "    <tr>\n",
       "      <th>1</th>\n",
       "      <td>N</td>\n",
       "      <td>AC</td>\n",
       "      <td>RIO BRANCO</td>\n",
       "      <td>AUTO POSTO AMAPA - EIRELI</td>\n",
       "      <td>00.529.581/0001-53</td>\n",
       "      <td>VIA CHICO MENDES</td>\n",
       "      <td>3570</td>\n",
       "      <td>NaN</td>\n",
       "      <td>AREAL</td>\n",
       "      <td>69906-119</td>\n",
       "      <td>GLP</td>\n",
       "      <td>03/01/2022</td>\n",
       "      <td>115</td>\n",
       "      <td>NaN</td>\n",
       "      <td>R$ / 13 kg</td>\n",
       "      <td>FOGAS</td>\n",
       "      <td>NaN</td>\n",
       "    </tr>\n",
       "    <tr>\n",
       "      <th>2</th>\n",
       "      <td>N</td>\n",
       "      <td>AC</td>\n",
       "      <td>RIO BRANCO</td>\n",
       "      <td>AUTO POSTO ACAUAN LTDA</td>\n",
       "      <td>00.524.999/0001-78</td>\n",
       "      <td>RODOVIA AC 40</td>\n",
       "      <td>1800</td>\n",
       "      <td>NaN</td>\n",
       "      <td>VILA ACRE</td>\n",
       "      <td>69902-450</td>\n",
       "      <td>GLP</td>\n",
       "      <td>03/01/2022</td>\n",
       "      <td>110</td>\n",
       "      <td>NaN</td>\n",
       "      <td>R$ / 13 kg</td>\n",
       "      <td>AMAZONGÃS</td>\n",
       "      <td>NaN</td>\n",
       "    </tr>\n",
       "    <tr>\n",
       "      <th>3</th>\n",
       "      <td>N</td>\n",
       "      <td>AC</td>\n",
       "      <td>RIO BRANCO</td>\n",
       "      <td>AUTO POSTO CANINDE LTDA</td>\n",
       "      <td>05.442.544/0001-27</td>\n",
       "      <td>RODOVIA AC 40</td>\n",
       "      <td>3206</td>\n",
       "      <td>KM 07</td>\n",
       "      <td>VILA ACRE</td>\n",
       "      <td>69902-450</td>\n",
       "      <td>GLP</td>\n",
       "      <td>03/01/2022</td>\n",
       "      <td>115</td>\n",
       "      <td>NaN</td>\n",
       "      <td>R$ / 13 kg</td>\n",
       "      <td>AMAZONGÃS</td>\n",
       "      <td>NaN</td>\n",
       "    </tr>\n",
       "    <tr>\n",
       "      <th>4</th>\n",
       "      <td>N</td>\n",
       "      <td>AC</td>\n",
       "      <td>RIO BRANCO</td>\n",
       "      <td>AUTO POSTO AEROPORTO LTDA</td>\n",
       "      <td>14.294.227/0001-00</td>\n",
       "      <td>V CHICO MENDES</td>\n",
       "      <td>2583</td>\n",
       "      <td>NaN</td>\n",
       "      <td>COMARA</td>\n",
       "      <td>69906-326</td>\n",
       "      <td>GLP</td>\n",
       "      <td>03/01/2022</td>\n",
       "      <td>115</td>\n",
       "      <td>NaN</td>\n",
       "      <td>R$ / 13 kg</td>\n",
       "      <td>AMAZONGÃS</td>\n",
       "      <td>NaN</td>\n",
       "    </tr>\n",
       "    <tr>\n",
       "      <th>...</th>\n",
       "      <td>...</td>\n",
       "      <td>...</td>\n",
       "      <td>...</td>\n",
       "      <td>...</td>\n",
       "      <td>...</td>\n",
       "      <td>...</td>\n",
       "      <td>...</td>\n",
       "      <td>...</td>\n",
       "      <td>...</td>\n",
       "      <td>...</td>\n",
       "      <td>...</td>\n",
       "      <td>...</td>\n",
       "      <td>...</td>\n",
       "      <td>...</td>\n",
       "      <td>...</td>\n",
       "      <td>...</td>\n",
       "      <td>...</td>\n",
       "    </tr>\n",
       "    <tr>\n",
       "      <th>100128</th>\n",
       "      <td>S</td>\n",
       "      <td>PR</td>\n",
       "      <td>CAMPO MOURAO</td>\n",
       "      <td>M. J. ALEXANDRE - GAS LTDA</td>\n",
       "      <td>37.223.162/0001-07</td>\n",
       "      <td>RUA ANTONIO JUSTINO FERREIRA</td>\n",
       "      <td>623</td>\n",
       "      <td>NaN</td>\n",
       "      <td>JARDIM PAULISTA</td>\n",
       "      <td>87310-550</td>\n",
       "      <td>GLP</td>\n",
       "      <td>30/06/2022</td>\n",
       "      <td>115</td>\n",
       "      <td>NaN</td>\n",
       "      <td>R$ / 13 kg</td>\n",
       "      <td>BRANCA</td>\n",
       "      <td>NaN</td>\n",
       "    </tr>\n",
       "    <tr>\n",
       "      <th>100129</th>\n",
       "      <td>S</td>\n",
       "      <td>RS</td>\n",
       "      <td>NOVO HAMBURGO</td>\n",
       "      <td>J ALECIO CARDOSO</td>\n",
       "      <td>36.682.734/0001-45</td>\n",
       "      <td>RUA FLORENCA</td>\n",
       "      <td>820</td>\n",
       "      <td>NaN</td>\n",
       "      <td>CANUDOS</td>\n",
       "      <td>93542-061</td>\n",
       "      <td>GLP</td>\n",
       "      <td>30/06/2022</td>\n",
       "      <td>105</td>\n",
       "      <td>NaN</td>\n",
       "      <td>R$ / 13 kg</td>\n",
       "      <td>ULTRAGAZ</td>\n",
       "      <td>NaN</td>\n",
       "    </tr>\n",
       "    <tr>\n",
       "      <th>100130</th>\n",
       "      <td>SE</td>\n",
       "      <td>MG</td>\n",
       "      <td>MONTES CLAROS</td>\n",
       "      <td>W DIAS GAS EIRELI</td>\n",
       "      <td>34.473.925/0001-71</td>\n",
       "      <td>RUA MANOEL BANDEIRA</td>\n",
       "      <td>815</td>\n",
       "      <td>NaN</td>\n",
       "      <td>PLANALTO</td>\n",
       "      <td>39404-035</td>\n",
       "      <td>GLP</td>\n",
       "      <td>30/06/2022</td>\n",
       "      <td>128</td>\n",
       "      <td>NaN</td>\n",
       "      <td>R$ / 13 kg</td>\n",
       "      <td>ULTRAGAZ</td>\n",
       "      <td>NaN</td>\n",
       "    </tr>\n",
       "    <tr>\n",
       "      <th>100131</th>\n",
       "      <td>NE</td>\n",
       "      <td>BA</td>\n",
       "      <td>IRECE</td>\n",
       "      <td>COSTA  MENDONCA DERIVADOS DE PETROLEO LTDA</td>\n",
       "      <td>19.584.110/0001-76</td>\n",
       "      <td>AVENIDA PRIMEIRO DE JANEIRO</td>\n",
       "      <td>275</td>\n",
       "      <td>TERREO</td>\n",
       "      <td>CENTRO</td>\n",
       "      <td>44900-000</td>\n",
       "      <td>GLP</td>\n",
       "      <td>30/06/2022</td>\n",
       "      <td>107</td>\n",
       "      <td>NaN</td>\n",
       "      <td>R$ / 13 kg</td>\n",
       "      <td>BAHIANA</td>\n",
       "      <td>NaN</td>\n",
       "    </tr>\n",
       "    <tr>\n",
       "      <th>100132</th>\n",
       "      <td>CO</td>\n",
       "      <td>GO</td>\n",
       "      <td>CALDAS NOVAS</td>\n",
       "      <td>LIGIANE DA COSTA SOUZA EIRELI</td>\n",
       "      <td>37.188.151/0001-25</td>\n",
       "      <td>AVENIDA I</td>\n",
       "      <td>SN</td>\n",
       "      <td>QUADRA44                  LOTE  45</td>\n",
       "      <td>PORTAL DAS AGUAS QUENTES</td>\n",
       "      <td>75696-609</td>\n",
       "      <td>GLP</td>\n",
       "      <td>30/06/2022</td>\n",
       "      <td>115</td>\n",
       "      <td>NaN</td>\n",
       "      <td>R$ / 13 kg</td>\n",
       "      <td>BRANCA</td>\n",
       "      <td>NaN</td>\n",
       "    </tr>\n",
       "  </tbody>\n",
       "</table>\n",
       "<p>98040 rows × 17 columns</p>\n",
       "</div>"
      ],
      "text/plain": [
       "       ï»¿Regiao - Sigla Estado - Sigla      Municipio  \\\n",
       "0                     SE             SP    SAO VICENTE   \n",
       "1                      N             AC     RIO BRANCO   \n",
       "2                      N             AC     RIO BRANCO   \n",
       "3                      N             AC     RIO BRANCO   \n",
       "4                      N             AC     RIO BRANCO   \n",
       "...                  ...            ...            ...   \n",
       "100128                 S             PR   CAMPO MOURAO   \n",
       "100129                 S             RS  NOVO HAMBURGO   \n",
       "100130                SE             MG  MONTES CLAROS   \n",
       "100131                NE             BA          IRECE   \n",
       "100132                CO             GO   CALDAS NOVAS   \n",
       "\n",
       "                                           Revenda      CNPJ da Revenda  \\\n",
       "0             CONSIGAZ DISTRIBUIDORA DE GÃS LTDA.   01.597.589/0003-81   \n",
       "1                        AUTO POSTO AMAPA - EIRELI   00.529.581/0001-53   \n",
       "2                           AUTO POSTO ACAUAN LTDA   00.524.999/0001-78   \n",
       "3                          AUTO POSTO CANINDE LTDA   05.442.544/0001-27   \n",
       "4                        AUTO POSTO AEROPORTO LTDA   14.294.227/0001-00   \n",
       "...                                            ...                  ...   \n",
       "100128                  M. J. ALEXANDRE - GAS LTDA   37.223.162/0001-07   \n",
       "100129                            J ALECIO CARDOSO   36.682.734/0001-45   \n",
       "100130                           W DIAS GAS EIRELI   34.473.925/0001-71   \n",
       "100131  COSTA  MENDONCA DERIVADOS DE PETROLEO LTDA   19.584.110/0001-76   \n",
       "100132               LIGIANE DA COSTA SOUZA EIRELI   37.188.151/0001-25   \n",
       "\n",
       "                         Nome da Rua Numero Rua  \\\n",
       "0                RUA MANOEL DE ABREU        790   \n",
       "1                   VIA CHICO MENDES       3570   \n",
       "2                      RODOVIA AC 40       1800   \n",
       "3                      RODOVIA AC 40       3206   \n",
       "4                     V CHICO MENDES       2583   \n",
       "...                              ...        ...   \n",
       "100128  RUA ANTONIO JUSTINO FERREIRA        623   \n",
       "100129                  RUA FLORENCA        820   \n",
       "100130           RUA MANOEL BANDEIRA        815   \n",
       "100131   AVENIDA PRIMEIRO DE JANEIRO        275   \n",
       "100132                     AVENIDA I         SN   \n",
       "\n",
       "                               Complemento                    Bairro  \\\n",
       "0                               QUADRA 108            CIDADE NAUTICA   \n",
       "1                                      NaN                     AREAL   \n",
       "2                                      NaN                 VILA ACRE   \n",
       "3                                    KM 07                 VILA ACRE   \n",
       "4                                      NaN                    COMARA   \n",
       "...                                    ...                       ...   \n",
       "100128                                 NaN           JARDIM PAULISTA   \n",
       "100129                                 NaN                   CANUDOS   \n",
       "100130                                 NaN                  PLANALTO   \n",
       "100131                              TERREO                    CENTRO   \n",
       "100132  QUADRA44                  LOTE  45  PORTAL DAS AGUAS QUENTES   \n",
       "\n",
       "              Cep Produto Data da Coleta Valor de Venda Valor de Compra  \\\n",
       "0       11355-400     GLP     03/01/2022          97,99             NaN   \n",
       "1       69906-119     GLP     03/01/2022            115             NaN   \n",
       "2       69902-450     GLP     03/01/2022            110             NaN   \n",
       "3       69902-450     GLP     03/01/2022            115             NaN   \n",
       "4       69906-326     GLP     03/01/2022            115             NaN   \n",
       "...           ...     ...            ...            ...             ...   \n",
       "100128  87310-550     GLP     30/06/2022            115             NaN   \n",
       "100129  93542-061     GLP     30/06/2022            105             NaN   \n",
       "100130  39404-035     GLP     30/06/2022            128             NaN   \n",
       "100131  44900-000     GLP     30/06/2022            107             NaN   \n",
       "100132  75696-609     GLP     30/06/2022            115             NaN   \n",
       "\n",
       "       Unidade de Medida    Bandeira Regiao - Sigla  \n",
       "0             R$ / 13 kg    CONSIGAZ            NaN  \n",
       "1             R$ / 13 kg       FOGAS            NaN  \n",
       "2             R$ / 13 kg  AMAZONGÃS            NaN  \n",
       "3             R$ / 13 kg  AMAZONGÃS            NaN  \n",
       "4             R$ / 13 kg  AMAZONGÃS            NaN  \n",
       "...                  ...         ...            ...  \n",
       "100128        R$ / 13 kg      BRANCA            NaN  \n",
       "100129        R$ / 13 kg    ULTRAGAZ            NaN  \n",
       "100130        R$ / 13 kg    ULTRAGAZ            NaN  \n",
       "100131        R$ / 13 kg     BAHIANA            NaN  \n",
       "100132        R$ / 13 kg      BRANCA            NaN  \n",
       "\n",
       "[98040 rows x 17 columns]"
      ]
     },
     "execution_count": 8,
     "metadata": {},
     "output_type": "execute_result"
    }
   ],
   "source": [
    "gas_dataframe.loc[gas_dataframe.duplicated()] "
   ]
  },
  {
   "cell_type": "code",
   "execution_count": 9,
   "metadata": {},
   "outputs": [],
   "source": [
    "gas_dataframe = gas_dataframe.drop_duplicates()"
   ]
  },
  {
   "cell_type": "code",
   "execution_count": 10,
   "metadata": {},
   "outputs": [],
   "source": [
    "# No index atual, temos vários números repetidos, pois os números se repetem a cada tabela. \n",
    "# Para consertar isso, iremos resetar o index, atribuindo assim uma única posição a cada elemento,\n",
    "# e dropando a coluna para que ela não continue no DF."
   ]
  },
  {
   "cell_type": "code",
   "execution_count": 11,
   "metadata": {},
   "outputs": [],
   "source": [
    "gas_dataframe = gas_dataframe.reset_index(drop=True)"
   ]
  },
  {
   "cell_type": "code",
   "execution_count": 12,
   "metadata": {},
   "outputs": [
    {
     "data": {
      "text/plain": [
       "Index(['ï»¿Regiao - Sigla', 'Estado - Sigla', 'Municipio', 'Revenda',\n",
       "       'CNPJ da Revenda', 'Nome da Rua', 'Numero Rua', 'Complemento', 'Bairro',\n",
       "       'Cep', 'Produto', 'Data da Coleta', 'Valor de Venda', 'Valor de Compra',\n",
       "       'Unidade de Medida', 'Bandeira', 'Regiao - Sigla'],\n",
       "      dtype='object')"
      ]
     },
     "execution_count": 12,
     "metadata": {},
     "output_type": "execute_result"
    }
   ],
   "source": [
    "gas_dataframe.columns"
   ]
  },
  {
   "cell_type": "code",
   "execution_count": 13,
   "metadata": {},
   "outputs": [],
   "source": [
    "# Após identificar as colunas, substituo as colunas relevantes que contém algum caractere que possa atrapalhar na manipulação dos dados.\n",
    "# Os espaços são substituidos por _ , acentuações removidas (se existirem), além da padronização para letras minúsculas."
   ]
  },
  {
   "cell_type": "code",
   "execution_count": 14,
   "metadata": {},
   "outputs": [],
   "source": [
    "gas_dataframe = gas_dataframe.rename({'Data da Coleta': 'data',\n",
    "                            'Estado - Sigla': 'estado',\n",
    "                            'ï»¿Regiao - Sigla':'regiao',\n",
    "                            'Valor de Venda':'valor_venda',\n",
    "                            'Valor de Compra':'valor_compra',\n",
    "                            'Revenda':'revenda',\n",
    "                            'CNPJ da Revenda':'cnpj_revenda',\n",
    "                            'Nome da Rua':'nome_rua',}, axis=1)"
   ]
  },
  {
   "cell_type": "code",
   "execution_count": 15,
   "metadata": {},
   "outputs": [
    {
     "data": {
      "text/plain": [
       "R$ / 13 kg    5736458\n",
       "R$ / litro      14723\n",
       "R$ / m³          1257\n",
       "Name: Unidade de Medida, dtype: int64"
      ]
     },
     "execution_count": 15,
     "metadata": {},
     "output_type": "execute_result"
    }
   ],
   "source": [
    "gas_dataframe['Unidade de Medida'].value_counts() # Verificação se a unidade de medida varia."
   ]
  },
  {
   "cell_type": "code",
   "execution_count": 16,
   "metadata": {},
   "outputs": [],
   "source": [
    "# Padronizando a unidade de medida, deixando apenas o botijão (13kg)\n",
    "\n",
    "gas_dataframe = gas_dataframe[gas_dataframe['Unidade de Medida'] == \"R$ / 13 kg\"]"
   ]
  },
  {
   "cell_type": "code",
   "execution_count": 17,
   "metadata": {},
   "outputs": [],
   "source": [
    "# Transformando a data de coleta em um DateTime para facilitar operações.\n",
    "\n",
    "gas_dataframe['data'] = pd.to_datetime(gas_dataframe['data'], format='%d/%m/%Y') "
   ]
  },
  {
   "cell_type": "code",
   "execution_count": 18,
   "metadata": {},
   "outputs": [],
   "source": [
    "# Corrigindo a coluna de valor de venda, que acusava tipos diferentes (int + str), por conta da padronização decimal brasileira.\n",
    "# Aqui, substituo a \",\" por \".\" nas strs e em seguida transformo todos os valores em float, padronizando-os.\n",
    "\n",
    "gas_dataframe['valor_venda'] = pd.to_numeric(gas_dataframe['valor_venda'].apply(lambda x: x.replace(',', '.')))"
   ]
  },
  {
   "cell_type": "code",
   "execution_count": 19,
   "metadata": {},
   "outputs": [
    {
     "data": {
      "text/html": [
       "<div>\n",
       "<style scoped>\n",
       "    .dataframe tbody tr th:only-of-type {\n",
       "        vertical-align: middle;\n",
       "    }\n",
       "\n",
       "    .dataframe tbody tr th {\n",
       "        vertical-align: top;\n",
       "    }\n",
       "\n",
       "    .dataframe thead th {\n",
       "        text-align: right;\n",
       "    }\n",
       "</style>\n",
       "<table border=\"1\" class=\"dataframe\">\n",
       "  <thead>\n",
       "    <tr style=\"text-align: right;\">\n",
       "      <th></th>\n",
       "      <th>regiao</th>\n",
       "      <th>estado</th>\n",
       "      <th>Municipio</th>\n",
       "      <th>revenda</th>\n",
       "      <th>cnpj_revenda</th>\n",
       "      <th>nome_rua</th>\n",
       "      <th>Numero Rua</th>\n",
       "      <th>Complemento</th>\n",
       "      <th>Bairro</th>\n",
       "      <th>Cep</th>\n",
       "      <th>Produto</th>\n",
       "      <th>data</th>\n",
       "      <th>valor_venda</th>\n",
       "      <th>valor_compra</th>\n",
       "      <th>Unidade de Medida</th>\n",
       "      <th>Bandeira</th>\n",
       "      <th>Regiao - Sigla</th>\n",
       "    </tr>\n",
       "  </thead>\n",
       "  <tbody>\n",
       "    <tr>\n",
       "      <th>0</th>\n",
       "      <td>N</td>\n",
       "      <td>PA</td>\n",
       "      <td>BELEM</td>\n",
       "      <td>AUTO POSTO BELEM LTDA</td>\n",
       "      <td>05.825.216/0001-00</td>\n",
       "      <td>AVENIDA PEDRO ALVARES CABRAL</td>\n",
       "      <td>S/N</td>\n",
       "      <td>ESQ. COM AV. TAVARES BASTOS</td>\n",
       "      <td>MARAMBAIA</td>\n",
       "      <td>66613-150</td>\n",
       "      <td>GLP</td>\n",
       "      <td>2022-10-03</td>\n",
       "      <td>119.00</td>\n",
       "      <td>NaN</td>\n",
       "      <td>R$ / 13 kg</td>\n",
       "      <td>SUPERGASBRAS ENERGIA</td>\n",
       "      <td>NaN</td>\n",
       "    </tr>\n",
       "    <tr>\n",
       "      <th>1</th>\n",
       "      <td>N</td>\n",
       "      <td>PA</td>\n",
       "      <td>BELEM</td>\n",
       "      <td>IRMAOS TEIXEIRA LTDA</td>\n",
       "      <td>04.976.718/0003-30</td>\n",
       "      <td>AVENIDA PEDRO ALVARES CABRAL</td>\n",
       "      <td>3800</td>\n",
       "      <td>NaN</td>\n",
       "      <td>SACRAMENTA</td>\n",
       "      <td>66120-620</td>\n",
       "      <td>GLP</td>\n",
       "      <td>2022-10-03</td>\n",
       "      <td>115.99</td>\n",
       "      <td>NaN</td>\n",
       "      <td>R$ / 13 kg</td>\n",
       "      <td>BAHIANA</td>\n",
       "      <td>NaN</td>\n",
       "    </tr>\n",
       "  </tbody>\n",
       "</table>\n",
       "</div>"
      ],
      "text/plain": [
       "  regiao estado Municipio                revenda         cnpj_revenda  \\\n",
       "0      N     PA     BELEM  AUTO POSTO BELEM LTDA   05.825.216/0001-00   \n",
       "1      N     PA     BELEM   IRMAOS TEIXEIRA LTDA   04.976.718/0003-30   \n",
       "\n",
       "                       nome_rua Numero Rua                  Complemento  \\\n",
       "0  AVENIDA PEDRO ALVARES CABRAL        S/N  ESQ. COM AV. TAVARES BASTOS   \n",
       "1  AVENIDA PEDRO ALVARES CABRAL       3800                          NaN   \n",
       "\n",
       "       Bairro        Cep Produto       data  valor_venda valor_compra  \\\n",
       "0   MARAMBAIA  66613-150     GLP 2022-10-03       119.00          NaN   \n",
       "1  SACRAMENTA  66120-620     GLP 2022-10-03       115.99          NaN   \n",
       "\n",
       "  Unidade de Medida              Bandeira Regiao - Sigla  \n",
       "0        R$ / 13 kg  SUPERGASBRAS ENERGIA            NaN  \n",
       "1        R$ / 13 kg               BAHIANA            NaN  "
      ]
     },
     "execution_count": 19,
     "metadata": {},
     "output_type": "execute_result"
    }
   ],
   "source": [
    "gas_dataframe.head(2)"
   ]
  },
  {
   "cell_type": "code",
   "execution_count": 20,
   "metadata": {},
   "outputs": [],
   "source": [
    "# Com isso, nossa limpeza inicial está completa. Caso veja a necessidade durante o decorrer da análise, adicionarei os próximos passos da limpeza abaixo."
   ]
  },
  {
   "attachments": {},
   "cell_type": "markdown",
   "metadata": {},
   "source": [
    "____________"
   ]
  },
  {
   "attachments": {},
   "cell_type": "markdown",
   "metadata": {},
   "source": [
    "## Salário Mínimo"
   ]
  },
  {
   "attachments": {},
   "cell_type": "markdown",
   "metadata": {},
   "source": [
    "### Coletando dados"
   ]
  },
  {
   "cell_type": "code",
   "execution_count": 21,
   "metadata": {},
   "outputs": [],
   "source": [
    "url_sm = 'http://www.ipeadata.gov.br/exibeserie.aspx?stub=1&serid1739471028=1739471028'"
   ]
  },
  {
   "cell_type": "code",
   "execution_count": 22,
   "metadata": {},
   "outputs": [],
   "source": [
    "# Os dados do salário mínimo estão disponíveis no site do IPEA de forma mais simplificada do que no portal de dados do governo (devido ao JavaScript usado no portal),\n",
    "# então coletar esses dados pode ser realizado de forma muito mais simples, usando apenas o método get e lendo o conteúdo da página. Ali, identificamos a tabela que precisamos:"
   ]
  },
  {
   "cell_type": "code",
   "execution_count": 23,
   "metadata": {},
   "outputs": [],
   "source": [
    "pag_html = requests.get(url_sm)\n",
    "df_list = pd.read_html(pag_html.text)"
   ]
  },
  {
   "cell_type": "code",
   "execution_count": 24,
   "metadata": {},
   "outputs": [
    {
     "data": {
      "text/html": [
       "<div>\n",
       "<style scoped>\n",
       "    .dataframe tbody tr th:only-of-type {\n",
       "        vertical-align: middle;\n",
       "    }\n",
       "\n",
       "    .dataframe tbody tr th {\n",
       "        vertical-align: top;\n",
       "    }\n",
       "\n",
       "    .dataframe thead th {\n",
       "        text-align: right;\n",
       "    }\n",
       "</style>\n",
       "<table border=\"1\" class=\"dataframe\">\n",
       "  <thead>\n",
       "    <tr style=\"text-align: right;\">\n",
       "      <th></th>\n",
       "      <th>0</th>\n",
       "      <th>1</th>\n",
       "    </tr>\n",
       "  </thead>\n",
       "  <tbody>\n",
       "    <tr>\n",
       "      <th>0</th>\n",
       "      <td>Data</td>\n",
       "      <td>Salário mínimo vigente</td>\n",
       "    </tr>\n",
       "    <tr>\n",
       "      <th>1</th>\n",
       "      <td>1940.07</td>\n",
       "      <td>87273E-14</td>\n",
       "    </tr>\n",
       "    <tr>\n",
       "      <th>2</th>\n",
       "      <td>1940.08</td>\n",
       "      <td>87273E-14</td>\n",
       "    </tr>\n",
       "    <tr>\n",
       "      <th>3</th>\n",
       "      <td>1940.09</td>\n",
       "      <td>87273E-14</td>\n",
       "    </tr>\n",
       "    <tr>\n",
       "      <th>4</th>\n",
       "      <td>1940.10</td>\n",
       "      <td>87273E-14</td>\n",
       "    </tr>\n",
       "    <tr>\n",
       "      <th>...</th>\n",
       "      <td>...</td>\n",
       "      <td>...</td>\n",
       "    </tr>\n",
       "    <tr>\n",
       "      <th>986</th>\n",
       "      <td>2022.08</td>\n",
       "      <td>1.212,00</td>\n",
       "    </tr>\n",
       "    <tr>\n",
       "      <th>987</th>\n",
       "      <td>2022.09</td>\n",
       "      <td>1.212,00</td>\n",
       "    </tr>\n",
       "    <tr>\n",
       "      <th>988</th>\n",
       "      <td>2022.10</td>\n",
       "      <td>1.212,00</td>\n",
       "    </tr>\n",
       "    <tr>\n",
       "      <th>989</th>\n",
       "      <td>2022.11</td>\n",
       "      <td>1.212,00</td>\n",
       "    </tr>\n",
       "    <tr>\n",
       "      <th>990</th>\n",
       "      <td>2022.12</td>\n",
       "      <td>1.212,00</td>\n",
       "    </tr>\n",
       "  </tbody>\n",
       "</table>\n",
       "<p>991 rows × 2 columns</p>\n",
       "</div>"
      ],
      "text/plain": [
       "           0                       1\n",
       "0       Data  Salário mínimo vigente\n",
       "1    1940.07               87273E-14\n",
       "2    1940.08               87273E-14\n",
       "3    1940.09               87273E-14\n",
       "4    1940.10               87273E-14\n",
       "..       ...                     ...\n",
       "986  2022.08                1.212,00\n",
       "987  2022.09                1.212,00\n",
       "988  2022.10                1.212,00\n",
       "989  2022.11                1.212,00\n",
       "990  2022.12                1.212,00\n",
       "\n",
       "[991 rows x 2 columns]"
      ]
     },
     "execution_count": 24,
     "metadata": {},
     "output_type": "execute_result"
    }
   ],
   "source": [
    "df_list[2]"
   ]
  },
  {
   "attachments": {},
   "cell_type": "markdown",
   "metadata": {},
   "source": [
    "### Criação e limpeza do dataframe de salário"
   ]
  },
  {
   "cell_type": "code",
   "execution_count": 25,
   "metadata": {},
   "outputs": [],
   "source": [
    "# Atribuindo os headers das colunas em seus devidos lugares"
   ]
  },
  {
   "cell_type": "code",
   "execution_count": 26,
   "metadata": {},
   "outputs": [
    {
     "data": {
      "text/html": [
       "<div>\n",
       "<style scoped>\n",
       "    .dataframe tbody tr th:only-of-type {\n",
       "        vertical-align: middle;\n",
       "    }\n",
       "\n",
       "    .dataframe tbody tr th {\n",
       "        vertical-align: top;\n",
       "    }\n",
       "\n",
       "    .dataframe thead th {\n",
       "        text-align: right;\n",
       "    }\n",
       "</style>\n",
       "<table border=\"1\" class=\"dataframe\">\n",
       "  <thead>\n",
       "    <tr style=\"text-align: right;\">\n",
       "      <th></th>\n",
       "      <th>Data</th>\n",
       "      <th>Salário mínimo vigente</th>\n",
       "    </tr>\n",
       "  </thead>\n",
       "  <tbody>\n",
       "    <tr>\n",
       "      <th>1</th>\n",
       "      <td>1940.07</td>\n",
       "      <td>87273E-14</td>\n",
       "    </tr>\n",
       "    <tr>\n",
       "      <th>2</th>\n",
       "      <td>1940.08</td>\n",
       "      <td>87273E-14</td>\n",
       "    </tr>\n",
       "    <tr>\n",
       "      <th>3</th>\n",
       "      <td>1940.09</td>\n",
       "      <td>87273E-14</td>\n",
       "    </tr>\n",
       "    <tr>\n",
       "      <th>4</th>\n",
       "      <td>1940.10</td>\n",
       "      <td>87273E-14</td>\n",
       "    </tr>\n",
       "    <tr>\n",
       "      <th>5</th>\n",
       "      <td>1940.11</td>\n",
       "      <td>87273E-14</td>\n",
       "    </tr>\n",
       "  </tbody>\n",
       "</table>\n",
       "</div>"
      ],
      "text/plain": [
       "      Data Salário mínimo vigente\n",
       "1  1940.07              87273E-14\n",
       "2  1940.08              87273E-14\n",
       "3  1940.09              87273E-14\n",
       "4  1940.10              87273E-14\n",
       "5  1940.11              87273E-14"
      ]
     },
     "execution_count": 26,
     "metadata": {},
     "output_type": "execute_result"
    }
   ],
   "source": [
    "salario_geral = df_list[2].rename(columns=df_list[2].iloc[0]).drop(0)\n",
    "salario_geral.head()"
   ]
  },
  {
   "cell_type": "code",
   "execution_count": 27,
   "metadata": {},
   "outputs": [],
   "source": [
    "# Prosseguimos com a limpeza, alterando a data para o formato correto e atribuindo o resultado como index.\n",
    "# Aproveito também para trocar o nome da coluna salário, de forma que a acentuação e espaços não atrapalhem nas consultas."
   ]
  },
  {
   "cell_type": "code",
   "execution_count": 28,
   "metadata": {},
   "outputs": [],
   "source": [
    "salario_geral['Data'] = pd.to_datetime(salario_geral['Data'], format='%Y/%m')\n",
    "salario_geral = salario_geral.set_index('Data')\n",
    "salario_geral = salario_geral.rename({'Salário mínimo vigente':'Salario'},axis=1)\n"
   ]
  },
  {
   "cell_type": "code",
   "execution_count": 29,
   "metadata": {},
   "outputs": [],
   "source": [
    "# Aqui, faço um slice no salário usando como data de inicio o mês que obtemos a primeira média de preços com os registros do gás (Feito mais abaixo, na seção _________).\n",
    "# Além disso, os números estão despadronizados, alguns com 0's a mais, os últimos que chegam aos milhares contam com . e , na mesma string\n",
    "# Então, aproveito para tratar e remover os centavos 0's a mais, transformando-o para int."
   ]
  },
  {
   "cell_type": "code",
   "execution_count": 30,
   "metadata": {},
   "outputs": [],
   "source": [
    "salario_selecionado = salario_geral.loc['2004-05':'2022-10'].copy()\n",
    "salario_selecionado['Salario'] = (salario_selecionado.Salario.apply(lambda x: x[:-2].replace((','), '')))\n",
    "salario_selecionado['Salario'] = pd.to_numeric(salario_selecionado.Salario.apply(lambda x: x.replace('.', '')))"
   ]
  },
  {
   "cell_type": "code",
   "execution_count": 31,
   "metadata": {},
   "outputs": [
    {
     "data": {
      "text/plain": [
       "Data\n",
       "2004-05-01     260\n",
       "2004-06-01     260\n",
       "2004-07-01     260\n",
       "2004-08-01     260\n",
       "2004-09-01     260\n",
       "              ... \n",
       "2022-06-01    1212\n",
       "2022-07-01    1212\n",
       "2022-08-01    1212\n",
       "2022-09-01    1212\n",
       "2022-10-01    1212\n",
       "Name: Salario, Length: 222, dtype: int64"
      ]
     },
     "execution_count": 31,
     "metadata": {},
     "output_type": "execute_result"
    }
   ],
   "source": [
    "salario_selecionado.Salario"
   ]
  },
  {
   "cell_type": "code",
   "execution_count": 32,
   "metadata": {},
   "outputs": [],
   "source": [
    "#\n",
    "# Ideia: Plotar por cima do grafico abaixo um segundo com marcadores nos momentos que ocorre aumento salarial (coluna separada identificando? outro dataset?)\n",
    "# Cuidado: Poluição visual. Talvez seja necessário remover o grid"
   ]
  },
  {
   "cell_type": "code",
   "execution_count": 33,
   "metadata": {},
   "outputs": [
    {
     "data": {
      "image/png": "[encoded data removed]",
      "text/plain": [
       "<Figure size 640x480 with 1 Axes>"
      ]
     },
     "metadata": {},
     "output_type": "display_data"
    }
   ],
   "source": [
    "salario_selecionado.plot(kind='line', ylim=(200,1300))\n",
    "plt.title('Evolução salarial 2004-2022')\n",
    "plt.grid(which='major', axis='y')\n",
    "\n",
    "plt.xlabel('')\n",
    "plt.xticks(rotation=45)\n",
    "\n",
    "plt.legend(['Salario (em R$)'])\n",
    "plt.show()"
   ]
  },
  {
   "cell_type": "code",
   "execution_count": 34,
   "metadata": {},
   "outputs": [],
   "source": [
    "# Podemos observar que o crescimento de salários ocorre de maneira irregular ao longo dos anos, variando até mesmo o intervalo de tempo em que é aumentado.\n",
    "# Um claro exemplo disso ocorre entre 2010 e 2011, onde o salário é aumentado duas vezes em um intervalo de 4 meses (Em Janeiro e março ocorrem aumentos),\n",
    "# para se estabilizar novamente até o final daquele ano."
   ]
  },
  {
   "cell_type": "code",
   "execution_count": 35,
   "metadata": {},
   "outputs": [
    {
     "data": {
      "text/html": [
       "<div>\n",
       "<style scoped>\n",
       "    .dataframe tbody tr th:only-of-type {\n",
       "        vertical-align: middle;\n",
       "    }\n",
       "\n",
       "    .dataframe tbody tr th {\n",
       "        vertical-align: top;\n",
       "    }\n",
       "\n",
       "    .dataframe thead th {\n",
       "        text-align: right;\n",
       "    }\n",
       "</style>\n",
       "<table border=\"1\" class=\"dataframe\">\n",
       "  <thead>\n",
       "    <tr style=\"text-align: right;\">\n",
       "      <th></th>\n",
       "      <th>Salario</th>\n",
       "    </tr>\n",
       "    <tr>\n",
       "      <th>Data</th>\n",
       "      <th></th>\n",
       "    </tr>\n",
       "  </thead>\n",
       "  <tbody>\n",
       "    <tr>\n",
       "      <th>2010-11-01</th>\n",
       "      <td>510</td>\n",
       "    </tr>\n",
       "    <tr>\n",
       "      <th>2010-12-01</th>\n",
       "      <td>510</td>\n",
       "    </tr>\n",
       "    <tr>\n",
       "      <th>2011-01-01</th>\n",
       "      <td>540</td>\n",
       "    </tr>\n",
       "    <tr>\n",
       "      <th>2011-02-01</th>\n",
       "      <td>540</td>\n",
       "    </tr>\n",
       "    <tr>\n",
       "      <th>2011-03-01</th>\n",
       "      <td>545</td>\n",
       "    </tr>\n",
       "  </tbody>\n",
       "</table>\n",
       "</div>"
      ],
      "text/plain": [
       "            Salario\n",
       "Data               \n",
       "2010-11-01      510\n",
       "2010-12-01      510\n",
       "2011-01-01      540\n",
       "2011-02-01      540\n",
       "2011-03-01      545"
      ]
     },
     "execution_count": 35,
     "metadata": {},
     "output_type": "execute_result"
    }
   ],
   "source": [
    "salario_selecionado['2010-11':'2011-03']"
   ]
  },
  {
   "attachments": {},
   "cell_type": "markdown",
   "metadata": {},
   "source": [
    "_________"
   ]
  },
  {
   "attachments": {},
   "cell_type": "markdown",
   "metadata": {},
   "source": [
    "## Médias mensais - GLP e Salário "
   ]
  },
  {
   "cell_type": "code",
   "execution_count": 36,
   "metadata": {},
   "outputs": [
    {
     "data": {
      "text/html": [
       "<div>\n",
       "<style scoped>\n",
       "    .dataframe tbody tr th:only-of-type {\n",
       "        vertical-align: middle;\n",
       "    }\n",
       "\n",
       "    .dataframe tbody tr th {\n",
       "        vertical-align: top;\n",
       "    }\n",
       "\n",
       "    .dataframe thead th {\n",
       "        text-align: right;\n",
       "    }\n",
       "</style>\n",
       "<table border=\"1\" class=\"dataframe\">\n",
       "  <thead>\n",
       "    <tr style=\"text-align: right;\">\n",
       "      <th></th>\n",
       "      <th>regiao</th>\n",
       "      <th>estado</th>\n",
       "      <th>Municipio</th>\n",
       "      <th>revenda</th>\n",
       "      <th>cnpj_revenda</th>\n",
       "      <th>nome_rua</th>\n",
       "      <th>Numero Rua</th>\n",
       "      <th>Complemento</th>\n",
       "      <th>Bairro</th>\n",
       "      <th>Cep</th>\n",
       "      <th>Produto</th>\n",
       "      <th>data</th>\n",
       "      <th>valor_venda</th>\n",
       "      <th>valor_compra</th>\n",
       "      <th>Unidade de Medida</th>\n",
       "      <th>Bandeira</th>\n",
       "      <th>Regiao - Sigla</th>\n",
       "    </tr>\n",
       "  </thead>\n",
       "  <tbody>\n",
       "    <tr>\n",
       "      <th>0</th>\n",
       "      <td>N</td>\n",
       "      <td>PA</td>\n",
       "      <td>BELEM</td>\n",
       "      <td>AUTO POSTO BELEM LTDA</td>\n",
       "      <td>05.825.216/0001-00</td>\n",
       "      <td>AVENIDA PEDRO ALVARES CABRAL</td>\n",
       "      <td>S/N</td>\n",
       "      <td>ESQ. COM AV. TAVARES BASTOS</td>\n",
       "      <td>MARAMBAIA</td>\n",
       "      <td>66613-150</td>\n",
       "      <td>GLP</td>\n",
       "      <td>2022-10-03</td>\n",
       "      <td>119.00</td>\n",
       "      <td>NaN</td>\n",
       "      <td>R$ / 13 kg</td>\n",
       "      <td>SUPERGASBRAS ENERGIA</td>\n",
       "      <td>NaN</td>\n",
       "    </tr>\n",
       "    <tr>\n",
       "      <th>1</th>\n",
       "      <td>N</td>\n",
       "      <td>PA</td>\n",
       "      <td>BELEM</td>\n",
       "      <td>IRMAOS TEIXEIRA LTDA</td>\n",
       "      <td>04.976.718/0003-30</td>\n",
       "      <td>AVENIDA PEDRO ALVARES CABRAL</td>\n",
       "      <td>3800</td>\n",
       "      <td>NaN</td>\n",
       "      <td>SACRAMENTA</td>\n",
       "      <td>66120-620</td>\n",
       "      <td>GLP</td>\n",
       "      <td>2022-10-03</td>\n",
       "      <td>115.99</td>\n",
       "      <td>NaN</td>\n",
       "      <td>R$ / 13 kg</td>\n",
       "      <td>BAHIANA</td>\n",
       "      <td>NaN</td>\n",
       "    </tr>\n",
       "    <tr>\n",
       "      <th>2</th>\n",
       "      <td>N</td>\n",
       "      <td>PA</td>\n",
       "      <td>BELEM</td>\n",
       "      <td>SUPERCENTRO POSTOS DE SERVIÃO LTDA</td>\n",
       "      <td>05.303.828/0001-32</td>\n",
       "      <td>AVENIDA ALMIRANTE BARROSO</td>\n",
       "      <td>1814</td>\n",
       "      <td>B</td>\n",
       "      <td>MARCO</td>\n",
       "      <td>66093-020</td>\n",
       "      <td>GLP</td>\n",
       "      <td>2022-10-03</td>\n",
       "      <td>130.00</td>\n",
       "      <td>NaN</td>\n",
       "      <td>R$ / 13 kg</td>\n",
       "      <td>NACIONAL GÃS BUTANO</td>\n",
       "      <td>NaN</td>\n",
       "    </tr>\n",
       "    <tr>\n",
       "      <th>3</th>\n",
       "      <td>N</td>\n",
       "      <td>PA</td>\n",
       "      <td>BELEM</td>\n",
       "      <td>POSTO GIRASSOL LTDA</td>\n",
       "      <td>01.087.686/0001-62</td>\n",
       "      <td>RODOVIA AUGUSTO MONTENEGRO</td>\n",
       "      <td>1800</td>\n",
       "      <td>NaN</td>\n",
       "      <td>NOVA MARAMBAIA</td>\n",
       "      <td>66623-590</td>\n",
       "      <td>GLP</td>\n",
       "      <td>2022-10-03</td>\n",
       "      <td>110.00</td>\n",
       "      <td>NaN</td>\n",
       "      <td>R$ / 13 kg</td>\n",
       "      <td>ULTRAGAZ</td>\n",
       "      <td>NaN</td>\n",
       "    </tr>\n",
       "    <tr>\n",
       "      <th>4</th>\n",
       "      <td>N</td>\n",
       "      <td>PA</td>\n",
       "      <td>BELEM</td>\n",
       "      <td>POSTO ALIANCA EIRELI</td>\n",
       "      <td>14.685.994/0001-31</td>\n",
       "      <td>RODOVIA ARTHUR BERNARDES</td>\n",
       "      <td>151</td>\n",
       "      <td>ESQ PEDRO A CABRAL</td>\n",
       "      <td>SACRAMENTA</td>\n",
       "      <td>66825-000</td>\n",
       "      <td>GLP</td>\n",
       "      <td>2022-10-03</td>\n",
       "      <td>119.50</td>\n",
       "      <td>NaN</td>\n",
       "      <td>R$ / 13 kg</td>\n",
       "      <td>SUPERGASBRAS ENERGIA</td>\n",
       "      <td>NaN</td>\n",
       "    </tr>\n",
       "  </tbody>\n",
       "</table>\n",
       "</div>"
      ],
      "text/plain": [
       "  regiao estado Municipio                              revenda  \\\n",
       "0      N     PA     BELEM                AUTO POSTO BELEM LTDA   \n",
       "1      N     PA     BELEM                 IRMAOS TEIXEIRA LTDA   \n",
       "2      N     PA     BELEM  SUPERCENTRO POSTOS DE SERVIÃO LTDA   \n",
       "3      N     PA     BELEM                  POSTO GIRASSOL LTDA   \n",
       "4      N     PA     BELEM                 POSTO ALIANCA EIRELI   \n",
       "\n",
       "          cnpj_revenda                      nome_rua Numero Rua  \\\n",
       "0   05.825.216/0001-00  AVENIDA PEDRO ALVARES CABRAL        S/N   \n",
       "1   04.976.718/0003-30  AVENIDA PEDRO ALVARES CABRAL       3800   \n",
       "2   05.303.828/0001-32     AVENIDA ALMIRANTE BARROSO       1814   \n",
       "3   01.087.686/0001-62    RODOVIA AUGUSTO MONTENEGRO       1800   \n",
       "4   14.685.994/0001-31      RODOVIA ARTHUR BERNARDES        151   \n",
       "\n",
       "                   Complemento          Bairro        Cep Produto       data  \\\n",
       "0  ESQ. COM AV. TAVARES BASTOS       MARAMBAIA  66613-150     GLP 2022-10-03   \n",
       "1                          NaN      SACRAMENTA  66120-620     GLP 2022-10-03   \n",
       "2                            B           MARCO  66093-020     GLP 2022-10-03   \n",
       "3                          NaN  NOVA MARAMBAIA  66623-590     GLP 2022-10-03   \n",
       "4           ESQ PEDRO A CABRAL      SACRAMENTA  66825-000     GLP 2022-10-03   \n",
       "\n",
       "   valor_venda valor_compra Unidade de Medida              Bandeira  \\\n",
       "0       119.00          NaN        R$ / 13 kg  SUPERGASBRAS ENERGIA   \n",
       "1       115.99          NaN        R$ / 13 kg               BAHIANA   \n",
       "2       130.00          NaN        R$ / 13 kg  NACIONAL GÃS BUTANO   \n",
       "3       110.00          NaN        R$ / 13 kg              ULTRAGAZ   \n",
       "4       119.50          NaN        R$ / 13 kg  SUPERGASBRAS ENERGIA   \n",
       "\n",
       "  Regiao - Sigla  \n",
       "0            NaN  \n",
       "1            NaN  \n",
       "2            NaN  \n",
       "3            NaN  \n",
       "4            NaN  "
      ]
     },
     "execution_count": 36,
     "metadata": {},
     "output_type": "execute_result"
    }
   ],
   "source": [
    "gas_dataframe.head()"
   ]
  },
  {
   "cell_type": "code",
   "execution_count": 37,
   "metadata": {},
   "outputs": [
    {
     "data": {
      "text/html": [
       "<div>\n",
       "<style scoped>\n",
       "    .dataframe tbody tr th:only-of-type {\n",
       "        vertical-align: middle;\n",
       "    }\n",
       "\n",
       "    .dataframe tbody tr th {\n",
       "        vertical-align: top;\n",
       "    }\n",
       "\n",
       "    .dataframe thead th {\n",
       "        text-align: right;\n",
       "    }\n",
       "</style>\n",
       "<table border=\"1\" class=\"dataframe\">\n",
       "  <thead>\n",
       "    <tr style=\"text-align: right;\">\n",
       "      <th></th>\n",
       "      <th>data</th>\n",
       "      <th>valor_venda</th>\n",
       "    </tr>\n",
       "  </thead>\n",
       "  <tbody>\n",
       "    <tr>\n",
       "      <th>0</th>\n",
       "      <td>2004-05-31</td>\n",
       "      <td>30.333714</td>\n",
       "    </tr>\n",
       "    <tr>\n",
       "      <th>1</th>\n",
       "      <td>2004-06-30</td>\n",
       "      <td>30.298823</td>\n",
       "    </tr>\n",
       "    <tr>\n",
       "      <th>2</th>\n",
       "      <td>2004-07-31</td>\n",
       "      <td>30.330043</td>\n",
       "    </tr>\n",
       "    <tr>\n",
       "      <th>3</th>\n",
       "      <td>2004-08-31</td>\n",
       "      <td>30.224504</td>\n",
       "    </tr>\n",
       "    <tr>\n",
       "      <th>4</th>\n",
       "      <td>2004-09-30</td>\n",
       "      <td>30.106575</td>\n",
       "    </tr>\n",
       "    <tr>\n",
       "      <th>...</th>\n",
       "      <td>...</td>\n",
       "      <td>...</td>\n",
       "    </tr>\n",
       "    <tr>\n",
       "      <th>217</th>\n",
       "      <td>2022-06-30</td>\n",
       "      <td>113.537009</td>\n",
       "    </tr>\n",
       "    <tr>\n",
       "      <th>218</th>\n",
       "      <td>2022-07-31</td>\n",
       "      <td>112.905352</td>\n",
       "    </tr>\n",
       "    <tr>\n",
       "      <th>219</th>\n",
       "      <td>2022-08-31</td>\n",
       "      <td>112.277794</td>\n",
       "    </tr>\n",
       "    <tr>\n",
       "      <th>220</th>\n",
       "      <td>2022-09-30</td>\n",
       "      <td>113.160335</td>\n",
       "    </tr>\n",
       "    <tr>\n",
       "      <th>221</th>\n",
       "      <td>2022-10-31</td>\n",
       "      <td>110.501148</td>\n",
       "    </tr>\n",
       "  </tbody>\n",
       "</table>\n",
       "<p>222 rows × 2 columns</p>\n",
       "</div>"
      ],
      "text/plain": [
       "          data  valor_venda\n",
       "0   2004-05-31    30.333714\n",
       "1   2004-06-30    30.298823\n",
       "2   2004-07-31    30.330043\n",
       "3   2004-08-31    30.224504\n",
       "4   2004-09-30    30.106575\n",
       "..         ...          ...\n",
       "217 2022-06-30   113.537009\n",
       "218 2022-07-31   112.905352\n",
       "219 2022-08-31   112.277794\n",
       "220 2022-09-30   113.160335\n",
       "221 2022-10-31   110.501148\n",
       "\n",
       "[222 rows x 2 columns]"
      ]
     },
     "execution_count": 37,
     "metadata": {},
     "output_type": "execute_result"
    }
   ],
   "source": [
    "valor_glp_meses = gas_dataframe.resample(\"M\", on='data').mean().reset_index()\n",
    "valor_glp_meses"
   ]
  },
  {
   "cell_type": "code",
   "execution_count": 38,
   "metadata": {},
   "outputs": [
    {
     "data": {
      "text/html": [
       "<div>\n",
       "<style scoped>\n",
       "    .dataframe tbody tr th:only-of-type {\n",
       "        vertical-align: middle;\n",
       "    }\n",
       "\n",
       "    .dataframe tbody tr th {\n",
       "        vertical-align: top;\n",
       "    }\n",
       "\n",
       "    .dataframe thead th {\n",
       "        text-align: right;\n",
       "    }\n",
       "</style>\n",
       "<table border=\"1\" class=\"dataframe\">\n",
       "  <thead>\n",
       "    <tr style=\"text-align: right;\">\n",
       "      <th></th>\n",
       "      <th>data</th>\n",
       "      <th>valor_venda</th>\n",
       "    </tr>\n",
       "  </thead>\n",
       "  <tbody>\n",
       "    <tr>\n",
       "      <th>196</th>\n",
       "      <td>2020-09-30</td>\n",
       "      <td>NaN</td>\n",
       "    </tr>\n",
       "  </tbody>\n",
       "</table>\n",
       "</div>"
      ],
      "text/plain": [
       "          data  valor_venda\n",
       "196 2020-09-30          NaN"
      ]
     },
     "execution_count": 38,
     "metadata": {},
     "output_type": "execute_result"
    }
   ],
   "source": [
    "# Verificando se algum dos valores ficou faltante, percebemos que um mês está com NaN:\n",
    "valor_glp_meses.loc[valor_glp_meses.valor_venda.isna()]"
   ]
  },
  {
   "cell_type": "code",
   "execution_count": 39,
   "metadata": {},
   "outputs": [
    {
     "data": {
      "text/html": [
       "<div>\n",
       "<style scoped>\n",
       "    .dataframe tbody tr th:only-of-type {\n",
       "        vertical-align: middle;\n",
       "    }\n",
       "\n",
       "    .dataframe tbody tr th {\n",
       "        vertical-align: top;\n",
       "    }\n",
       "\n",
       "    .dataframe thead th {\n",
       "        text-align: right;\n",
       "    }\n",
       "</style>\n",
       "<table border=\"1\" class=\"dataframe\">\n",
       "  <thead>\n",
       "    <tr style=\"text-align: right;\">\n",
       "      <th></th>\n",
       "      <th>regiao</th>\n",
       "      <th>estado</th>\n",
       "      <th>Municipio</th>\n",
       "      <th>revenda</th>\n",
       "      <th>cnpj_revenda</th>\n",
       "      <th>nome_rua</th>\n",
       "      <th>Numero Rua</th>\n",
       "      <th>Complemento</th>\n",
       "      <th>Bairro</th>\n",
       "      <th>Cep</th>\n",
       "      <th>Produto</th>\n",
       "      <th>data</th>\n",
       "      <th>valor_venda</th>\n",
       "      <th>valor_compra</th>\n",
       "      <th>Unidade de Medida</th>\n",
       "      <th>Bandeira</th>\n",
       "      <th>Regiao - Sigla</th>\n",
       "    </tr>\n",
       "  </thead>\n",
       "  <tbody>\n",
       "  </tbody>\n",
       "</table>\n",
       "</div>"
      ],
      "text/plain": [
       "Empty DataFrame\n",
       "Columns: [regiao, estado, Municipio, revenda, cnpj_revenda, nome_rua, Numero Rua, Complemento, Bairro, Cep, Produto, data, valor_venda, valor_compra, Unidade de Medida, Bandeira, Regiao - Sigla]\n",
       "Index: []"
      ]
     },
     "execution_count": 39,
     "metadata": {},
     "output_type": "execute_result"
    }
   ],
   "source": [
    "# O ano de 2020 nesse conjunto de dados apresenta um número muito menor de registros, e o mês de setembro inteiro (09)\n",
    "# não teve registros. Podemos observar isso fazendo uma query no dataframe geral, que não nos retorna nenhum resultado:\n",
    "\n",
    "gas_dataframe[(gas_dataframe.data.dt.month == 9) & (gas_dataframe.data.dt.year == 2020)]"
   ]
  },
  {
   "cell_type": "code",
   "execution_count": 40,
   "metadata": {},
   "outputs": [
    {
     "data": {
      "text/html": [
       "<div>\n",
       "<style scoped>\n",
       "    .dataframe tbody tr th:only-of-type {\n",
       "        vertical-align: middle;\n",
       "    }\n",
       "\n",
       "    .dataframe tbody tr th {\n",
       "        vertical-align: top;\n",
       "    }\n",
       "\n",
       "    .dataframe thead th {\n",
       "        text-align: right;\n",
       "    }\n",
       "</style>\n",
       "<table border=\"1\" class=\"dataframe\">\n",
       "  <thead>\n",
       "    <tr style=\"text-align: right;\">\n",
       "      <th></th>\n",
       "      <th>data</th>\n",
       "      <th>valor_venda</th>\n",
       "    </tr>\n",
       "  </thead>\n",
       "  <tbody>\n",
       "  </tbody>\n",
       "</table>\n",
       "</div>"
      ],
      "text/plain": [
       "Empty DataFrame\n",
       "Columns: [data, valor_venda]\n",
       "Index: []"
      ]
     },
     "execution_count": 40,
     "metadata": {},
     "output_type": "execute_result"
    }
   ],
   "source": [
    "# Para contornar o problema, preencheremos o valor de acordo com valor anterior ao mesmo:\n",
    "\n",
    "valor_glp_meses = valor_glp_meses.fillna(method='bfill')\n",
    "\n",
    "valor_glp_meses[valor_glp_meses.valor_venda.notna() == False] # Mostrando que não temos mais valores nulos"
   ]
  },
  {
   "cell_type": "code",
   "execution_count": 41,
   "metadata": {},
   "outputs": [],
   "source": [
    "# Agora que reduzimos nosso conjunto à média mensal do gás, podemos relacionar isso com os valores mensais do salário mínimo."
   ]
  },
  {
   "cell_type": "code",
   "execution_count": 42,
   "metadata": {},
   "outputs": [
    {
     "data": {
      "image/png": "[encoded data removed]",
      "text/plain": [
       "<Figure size 1600x800 with 1 Axes>"
      ]
     },
     "metadata": {},
     "output_type": "display_data"
    }
   ],
   "source": [
    "# Plotando a média do valor de venda em todo o território nacional no período de 2004 a 2020.\n",
    "\n",
    "ax = plt.subplots(figsize=(16,8))\n",
    "plt.title('Médias mensais do botijão de gás (2004-2022)')\n",
    "plt.xlabel('Ano')\n",
    "plt.ylabel('Valor de venda (R$)')\n",
    "plt.grid(axis='y')\n",
    "plt.ylim((20, 120))\n",
    "sns.lineplot(valor_glp_meses, x='data', y='valor_venda', marker='o', label='Mes')\n",
    "plt.show()"
   ]
  },
  {
   "attachments": {},
   "cell_type": "markdown",
   "metadata": {},
   "source": [
    "Podemos observar dois momentos de aumento brusco: Entre 2015 e 2016 e em 2020, tendo este último apresentado uma forte tendência de alta.\n",
    "\n",
    "Através do site Wayback Machine podemos acessar o site da Petrobrás:\n"
   ]
  },
  {
   "cell_type": "code",
   "execution_count": 43,
   "metadata": {},
   "outputs": [],
   "source": [
    "\n",
    "# Pesquisar as possíveis causas."
   ]
  },
  {
   "attachments": {},
   "cell_type": "markdown",
   "metadata": {},
   "source": [
    "_________"
   ]
  },
  {
   "attachments": {},
   "cell_type": "markdown",
   "metadata": {},
   "source": [
    "### Joinando datasets"
   ]
  },
  {
   "cell_type": "code",
   "execution_count": 44,
   "metadata": {},
   "outputs": [
    {
     "data": {
      "text/html": [
       "<div>\n",
       "<style scoped>\n",
       "    .dataframe tbody tr th:only-of-type {\n",
       "        vertical-align: middle;\n",
       "    }\n",
       "\n",
       "    .dataframe tbody tr th {\n",
       "        vertical-align: top;\n",
       "    }\n",
       "\n",
       "    .dataframe thead th {\n",
       "        text-align: right;\n",
       "    }\n",
       "</style>\n",
       "<table border=\"1\" class=\"dataframe\">\n",
       "  <thead>\n",
       "    <tr style=\"text-align: right;\">\n",
       "      <th></th>\n",
       "      <th>data</th>\n",
       "      <th>valor_venda</th>\n",
       "    </tr>\n",
       "  </thead>\n",
       "  <tbody>\n",
       "    <tr>\n",
       "      <th>0</th>\n",
       "      <td>2004-05-31</td>\n",
       "      <td>30.333714</td>\n",
       "    </tr>\n",
       "    <tr>\n",
       "      <th>1</th>\n",
       "      <td>2004-06-30</td>\n",
       "      <td>30.298823</td>\n",
       "    </tr>\n",
       "    <tr>\n",
       "      <th>2</th>\n",
       "      <td>2004-07-31</td>\n",
       "      <td>30.330043</td>\n",
       "    </tr>\n",
       "  </tbody>\n",
       "</table>\n",
       "</div>"
      ],
      "text/plain": [
       "        data  valor_venda\n",
       "0 2004-05-31    30.333714\n",
       "1 2004-06-30    30.298823\n",
       "2 2004-07-31    30.330043"
      ]
     },
     "execution_count": 44,
     "metadata": {},
     "output_type": "execute_result"
    }
   ],
   "source": [
    "valor_glp_meses.head(3)"
   ]
  },
  {
   "cell_type": "code",
   "execution_count": 45,
   "metadata": {},
   "outputs": [],
   "source": [
    "valor_glp_meses.data = valor_glp_meses.data.apply(lambda x: pd.Timestamp(x).replace(day=1))"
   ]
  },
  {
   "cell_type": "code",
   "execution_count": 46,
   "metadata": {},
   "outputs": [
    {
     "data": {
      "text/html": [
       "<div>\n",
       "<style scoped>\n",
       "    .dataframe tbody tr th:only-of-type {\n",
       "        vertical-align: middle;\n",
       "    }\n",
       "\n",
       "    .dataframe tbody tr th {\n",
       "        vertical-align: top;\n",
       "    }\n",
       "\n",
       "    .dataframe thead th {\n",
       "        text-align: right;\n",
       "    }\n",
       "</style>\n",
       "<table border=\"1\" class=\"dataframe\">\n",
       "  <thead>\n",
       "    <tr style=\"text-align: right;\">\n",
       "      <th></th>\n",
       "      <th>Data</th>\n",
       "      <th>Salario</th>\n",
       "    </tr>\n",
       "  </thead>\n",
       "  <tbody>\n",
       "    <tr>\n",
       "      <th>0</th>\n",
       "      <td>2004-05-01</td>\n",
       "      <td>260</td>\n",
       "    </tr>\n",
       "    <tr>\n",
       "      <th>1</th>\n",
       "      <td>2004-06-01</td>\n",
       "      <td>260</td>\n",
       "    </tr>\n",
       "    <tr>\n",
       "      <th>2</th>\n",
       "      <td>2004-07-01</td>\n",
       "      <td>260</td>\n",
       "    </tr>\n",
       "  </tbody>\n",
       "</table>\n",
       "</div>"
      ],
      "text/plain": [
       "        Data  Salario\n",
       "0 2004-05-01      260\n",
       "1 2004-06-01      260\n",
       "2 2004-07-01      260"
      ]
     },
     "execution_count": 46,
     "metadata": {},
     "output_type": "execute_result"
    }
   ],
   "source": [
    "salario_selecionado = salario_selecionado.reset_index()\n",
    "salario_selecionado.head(3)"
   ]
  },
  {
   "cell_type": "code",
   "execution_count": 47,
   "metadata": {},
   "outputs": [
    {
     "data": {
      "text/html": [
       "<div>\n",
       "<style scoped>\n",
       "    .dataframe tbody tr th:only-of-type {\n",
       "        vertical-align: middle;\n",
       "    }\n",
       "\n",
       "    .dataframe tbody tr th {\n",
       "        vertical-align: top;\n",
       "    }\n",
       "\n",
       "    .dataframe thead th {\n",
       "        text-align: right;\n",
       "    }\n",
       "</style>\n",
       "<table border=\"1\" class=\"dataframe\">\n",
       "  <thead>\n",
       "    <tr style=\"text-align: right;\">\n",
       "      <th></th>\n",
       "      <th>data</th>\n",
       "      <th>valor_medio_mensal</th>\n",
       "      <th>Salario</th>\n",
       "    </tr>\n",
       "  </thead>\n",
       "  <tbody>\n",
       "    <tr>\n",
       "      <th>0</th>\n",
       "      <td>2004-05-01</td>\n",
       "      <td>30.333714</td>\n",
       "      <td>260</td>\n",
       "    </tr>\n",
       "    <tr>\n",
       "      <th>1</th>\n",
       "      <td>2004-06-01</td>\n",
       "      <td>30.298823</td>\n",
       "      <td>260</td>\n",
       "    </tr>\n",
       "    <tr>\n",
       "      <th>2</th>\n",
       "      <td>2004-07-01</td>\n",
       "      <td>30.330043</td>\n",
       "      <td>260</td>\n",
       "    </tr>\n",
       "    <tr>\n",
       "      <th>3</th>\n",
       "      <td>2004-08-01</td>\n",
       "      <td>30.224504</td>\n",
       "      <td>260</td>\n",
       "    </tr>\n",
       "    <tr>\n",
       "      <th>4</th>\n",
       "      <td>2004-09-01</td>\n",
       "      <td>30.106575</td>\n",
       "      <td>260</td>\n",
       "    </tr>\n",
       "  </tbody>\n",
       "</table>\n",
       "</div>"
      ],
      "text/plain": [
       "        data  valor_medio_mensal  Salario\n",
       "0 2004-05-01           30.333714      260\n",
       "1 2004-06-01           30.298823      260\n",
       "2 2004-07-01           30.330043      260\n",
       "3 2004-08-01           30.224504      260\n",
       "4 2004-09-01           30.106575      260"
      ]
     },
     "execution_count": 47,
     "metadata": {},
     "output_type": "execute_result"
    }
   ],
   "source": [
    "dataset_mensal = valor_glp_meses.merge(salario_selecionado,left_on='data', right_on='Data').drop('Data',axis=1)\n",
    "dataset_mensal = dataset_mensal.rename({'valor_venda':'valor_medio_mensal'}, axis=1)\n",
    "dataset_mensal.head()"
   ]
  },
  {
   "attachments": {},
   "cell_type": "markdown",
   "metadata": {},
   "source": [
    "# Poder de compra"
   ]
  },
  {
   "cell_type": "code",
   "execution_count": 56,
   "metadata": {},
   "outputs": [],
   "source": [
    "url_inflacao = requests.get()"
   ]
  },
  {
   "cell_type": "code",
   "execution_count": null,
   "metadata": {},
   "outputs": [],
   "source": [
    "#https://petrobras.com.br/fatos-e-dados/adotamos-nova-politica-de-precos-de-diesel-e-gasolina.htm"
   ]
  },
  {
   "attachments": {},
   "cell_type": "markdown",
   "metadata": {},
   "source": [
    "A seguir, busco verificar o poder de compras de um salário mínimo em relação a uma quantidade x de botijões que podem ser comprados com ele, ao longo do tempo:"
   ]
  },
  {
   "cell_type": "code",
   "execution_count": 48,
   "metadata": {},
   "outputs": [
    {
     "data": {
      "text/html": [
       "<div>\n",
       "<style scoped>\n",
       "    .dataframe tbody tr th:only-of-type {\n",
       "        vertical-align: middle;\n",
       "    }\n",
       "\n",
       "    .dataframe tbody tr th {\n",
       "        vertical-align: top;\n",
       "    }\n",
       "\n",
       "    .dataframe thead th {\n",
       "        text-align: right;\n",
       "    }\n",
       "</style>\n",
       "<table border=\"1\" class=\"dataframe\">\n",
       "  <thead>\n",
       "    <tr style=\"text-align: right;\">\n",
       "      <th></th>\n",
       "      <th>data</th>\n",
       "      <th>valor_medio_mensal</th>\n",
       "      <th>Salario</th>\n",
       "      <th>qtd_botijoes</th>\n",
       "    </tr>\n",
       "  </thead>\n",
       "  <tbody>\n",
       "    <tr>\n",
       "      <th>0</th>\n",
       "      <td>2004-05-01</td>\n",
       "      <td>30.333714</td>\n",
       "      <td>260</td>\n",
       "      <td>8.571321</td>\n",
       "    </tr>\n",
       "    <tr>\n",
       "      <th>1</th>\n",
       "      <td>2004-06-01</td>\n",
       "      <td>30.298823</td>\n",
       "      <td>260</td>\n",
       "      <td>8.581191</td>\n",
       "    </tr>\n",
       "    <tr>\n",
       "      <th>2</th>\n",
       "      <td>2004-07-01</td>\n",
       "      <td>30.330043</td>\n",
       "      <td>260</td>\n",
       "      <td>8.572359</td>\n",
       "    </tr>\n",
       "    <tr>\n",
       "      <th>3</th>\n",
       "      <td>2004-08-01</td>\n",
       "      <td>30.224504</td>\n",
       "      <td>260</td>\n",
       "      <td>8.602292</td>\n",
       "    </tr>\n",
       "    <tr>\n",
       "      <th>4</th>\n",
       "      <td>2004-09-01</td>\n",
       "      <td>30.106575</td>\n",
       "      <td>260</td>\n",
       "      <td>8.635987</td>\n",
       "    </tr>\n",
       "    <tr>\n",
       "      <th>...</th>\n",
       "      <td>...</td>\n",
       "      <td>...</td>\n",
       "      <td>...</td>\n",
       "      <td>...</td>\n",
       "    </tr>\n",
       "    <tr>\n",
       "      <th>217</th>\n",
       "      <td>2022-06-01</td>\n",
       "      <td>113.537009</td>\n",
       "      <td>1212</td>\n",
       "      <td>10.674933</td>\n",
       "    </tr>\n",
       "    <tr>\n",
       "      <th>218</th>\n",
       "      <td>2022-07-01</td>\n",
       "      <td>112.905352</td>\n",
       "      <td>1212</td>\n",
       "      <td>10.734655</td>\n",
       "    </tr>\n",
       "    <tr>\n",
       "      <th>219</th>\n",
       "      <td>2022-08-01</td>\n",
       "      <td>112.277794</td>\n",
       "      <td>1212</td>\n",
       "      <td>10.794655</td>\n",
       "    </tr>\n",
       "    <tr>\n",
       "      <th>220</th>\n",
       "      <td>2022-09-01</td>\n",
       "      <td>113.160335</td>\n",
       "      <td>1212</td>\n",
       "      <td>10.710467</td>\n",
       "    </tr>\n",
       "    <tr>\n",
       "      <th>221</th>\n",
       "      <td>2022-10-01</td>\n",
       "      <td>110.501148</td>\n",
       "      <td>1212</td>\n",
       "      <td>10.968212</td>\n",
       "    </tr>\n",
       "  </tbody>\n",
       "</table>\n",
       "<p>222 rows × 4 columns</p>\n",
       "</div>"
      ],
      "text/plain": [
       "          data  valor_medio_mensal  Salario  qtd_botijoes\n",
       "0   2004-05-01           30.333714      260      8.571321\n",
       "1   2004-06-01           30.298823      260      8.581191\n",
       "2   2004-07-01           30.330043      260      8.572359\n",
       "3   2004-08-01           30.224504      260      8.602292\n",
       "4   2004-09-01           30.106575      260      8.635987\n",
       "..         ...                 ...      ...           ...\n",
       "217 2022-06-01          113.537009     1212     10.674933\n",
       "218 2022-07-01          112.905352     1212     10.734655\n",
       "219 2022-08-01          112.277794     1212     10.794655\n",
       "220 2022-09-01          113.160335     1212     10.710467\n",
       "221 2022-10-01          110.501148     1212     10.968212\n",
       "\n",
       "[222 rows x 4 columns]"
      ]
     },
     "execution_count": 48,
     "metadata": {},
     "output_type": "execute_result"
    }
   ],
   "source": [
    "dataset_mensal['qtd_botijoes'] = dataset_mensal.Salario / dataset_mensal.valor_medio_mensal\n",
    "dataset_mensal"
   ]
  },
  {
   "cell_type": "code",
   "execution_count": 49,
   "metadata": {},
   "outputs": [],
   "source": [
    "dataset_anual = dataset_mensal.resample(\"Y\", on='data').mean().reset_index()"
   ]
  },
  {
   "cell_type": "code",
   "execution_count": 50,
   "metadata": {},
   "outputs": [],
   "source": [
    "# Plotado no Tableau - Adicionar como arquivo separado ou imagem no markdown?"
   ]
  },
  {
   "attachments": {},
   "cell_type": "markdown",
   "metadata": {},
   "source": [
    "_______"
   ]
  },
  {
   "cell_type": "code",
   "execution_count": null,
   "metadata": {},
   "outputs": [],
   "source": []
  },
  {
   "attachments": {},
   "cell_type": "markdown",
   "metadata": {},
   "source": [
    "____________"
   ]
  },
  {
   "attachments": {},
   "cell_type": "markdown",
   "metadata": {},
   "source": [
    "# Transformando em CSV p/ exportar para o Tableau"
   ]
  },
  {
   "cell_type": "code",
   "execution_count": 51,
   "metadata": {},
   "outputs": [],
   "source": [
    "dataset_anual.to_csv('dataset_anual.csv', index=False)"
   ]
  },
  {
   "cell_type": "code",
   "execution_count": 52,
   "metadata": {},
   "outputs": [],
   "source": [
    "dataset_mensal.to_csv('dataset_mensal.csv', index=False)"
   ]
  },
  {
   "cell_type": "code",
   "execution_count": 53,
   "metadata": {},
   "outputs": [],
   "source": [
    "# Arquivo grande ~1gb\n",
    "#gas_dataframe.to_csv('gas_dataframe.csv', index=False)"
   ]
  },
  {
   "attachments": {},
   "cell_type": "markdown",
   "metadata": {},
   "source": [
    "# Anotações: "
   ]
  },
  {
   "attachments": {},
   "cell_type": "markdown",
   "metadata": {},
   "source": [
    "______"
   ]
  },
  {
   "attachments": {},
   "cell_type": "markdown",
   "metadata": {},
   "source": [
    "Verificar o preço em relação à inflação desde 2004"
   ]
  },
  {
   "attachments": {},
   "cell_type": "markdown",
   "metadata": {},
   "source": [
    "Verificar a quantidade de registros em cada um dos anos (2020 tem muitos registros faltantes). Observar a tendência ao longo dos anos."
   ]
  }
 ],
 "metadata": {
  "kernelspec": {
   "display_name": "Python 3",
   "language": "python",
   "name": "python3"
  },
  "language_info": {
   "codemirror_mode": {
    "name": "ipython",
    "version": 3
   },
   "file_extension": ".py",
   "mimetype": "text/x-python",
   "name": "python",
   "nbconvert_exporter": "python",
   "pygments_lexer": "ipython3",
   "version": "3.9.6"
  },
  "orig_nbformat": 4,
  "vscode": {
   "interpreter": {
    "hash": "11938c6bc6919ae2720b4d5011047913343b08a43b18698fd82dedb0d4417594"
   }
  }
 },
 "nbformat": 4,
 "nbformat_minor": 2
}
