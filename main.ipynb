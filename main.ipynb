{
 "cells": [
  {
   "attachments": {},
   "cell_type": "markdown",
   "metadata": {},
   "source": [
    "# Objetivo - Fazer um comparativo do poder de compra do gás em relação ao salário mínimo de cada ano"
   ]
  },
  {
   "cell_type": "code",
   "execution_count": 1,
   "metadata": {},
   "outputs": [],
   "source": [
    "import os\n",
    "import re\n",
    "import requests\n",
    "import numpy as np\n",
    "import pandas as pd\n",
    "import seaborn as sns\n",
    "import urllib.request\n",
    "import matplotlib.pyplot as plt\n",
    "import matplotlib.dates as mdates\n",
    "\n",
    "from glob import glob\n"
   ]
  },
  {
   "attachments": {},
   "cell_type": "markdown",
   "metadata": {},
   "source": [
    "# GLP"
   ]
  },
  {
   "attachments": {},
   "cell_type": "markdown",
   "metadata": {},
   "source": [
    "## Coletando dados"
   ]
  },
  {
   "cell_type": "code",
   "execution_count": 2,
   "metadata": {},
   "outputs": [
    {
     "data": {
      "text/plain": [
       "['glp-2004-01']"
      ]
     },
     "execution_count": 2,
     "metadata": {},
     "output_type": "execute_result"
    }
   ],
   "source": [
    "data_inicial = re.findall('[\\w]{2,3}-[0-9]{4}-[0-9]{2}', 'https://www.gov.br/anp/pt-br/centrais-de-conteudo/dados-abertos/arquivos/shpc/dsas/glp/glp-2004-01.csv')\n",
    "data_inicial"
   ]
  },
  {
   "cell_type": "code",
   "execution_count": 3,
   "metadata": {},
   "outputs": [
    {
     "data": {
      "text/plain": [
       "['glp', '2004', '01']"
      ]
     },
     "execution_count": 3,
     "metadata": {},
     "output_type": "execute_result"
    }
   ],
   "source": [
    "search_split = data_inicial[0].split('-')\n",
    "search_split"
   ]
  },
  {
   "cell_type": "code",
   "execution_count": 4,
   "metadata": {},
   "outputs": [],
   "source": [
    "# Os dados no site do governo estão protegidos pelo front-end do site, não sendo possível realizar seu scrap com o Beautiful Soup de forma simples.\n",
    "# Por isso, decidi fazer o scrap dos dados aproveitando-me da estrutura padronizada da URL de download, que até 2020 alterava apenas o tipo de combustível, ano e semestre.\n",
    "\n"
   ]
  },
  {
   "cell_type": "code",
   "execution_count": 5,
   "metadata": {},
   "outputs": [],
   "source": [
    "def getting_data(link):\n",
    "  search = re.findall('[a-zA-Z]{3}-[0-9]{4}-[0-9]{2}', link)\n",
    "  search_splited = search[0].split('-')\n",
    "  tipo_comb, ano, sem = search_splited[0], int(search_splited[1]), search_splited[2]\n",
    "\n",
    "\n",
    "  while ano < 2021:\n",
    "    url = f'https://www.gov.br/anp/pt-br/centrais-de-conteudo/dados-abertos/arquivos/shpc/dsas/glp/{tipo_comb}-{ano}-{sem}.csv'\n",
    "    urllib.request.urlretrieve(url, f'{tipo_comb}-{ano}-{sem}.csv')\n",
    "\n",
    "    if sem == '02':\n",
    "      ano += 1\n",
    "      sem = '01'\n",
    "    \n",
    "    else:\n",
    "      sem = '02'\n"
   ]
  },
  {
   "cell_type": "code",
   "execution_count": 6,
   "metadata": {},
   "outputs": [],
   "source": [
    "getting_data('https://www.gov.br/anp/pt-br/centrais-de-conteudo/dados-abertos/arquivos/shpc/dsas/glp/glp-2020-02.csv')"
   ]
  },
  {
   "attachments": {},
   "cell_type": "markdown",
   "metadata": {},
   "source": [
    "________"
   ]
  },
  {
   "attachments": {},
   "cell_type": "markdown",
   "metadata": {},
   "source": [
    "## Criando um DataFrame"
   ]
  },
  {
   "cell_type": "code",
   "execution_count": 2,
   "metadata": {},
   "outputs": [],
   "source": [
    "# Para criar um único dataframe com todos os dados recolhidos, criamos uma lista com o glob() que nos retorna o caminho dos arquivos."
   ]
  },
  {
   "cell_type": "code",
   "execution_count": 3,
   "metadata": {},
   "outputs": [],
   "source": [
    "path = r'C:\\dados\\GasHistorica\\Data'\n",
    "\n",
    "all_files = glob(os.path.join(path, \"*.csv\"))"
   ]
  },
  {
   "cell_type": "code",
   "execution_count": 4,
   "metadata": {},
   "outputs": [],
   "source": [
    "# Com isso, lemos cada um dos caminhos do csv e passamos para o concat, unindo todos os DF's em um único."
   ]
  },
  {
   "cell_type": "code",
   "execution_count": 5,
   "metadata": {},
   "outputs": [
    {
     "name": "stderr",
     "output_type": "stream",
     "text": [
      "C:\\Users\\peyq\\AppData\\Local\\Temp\\ipykernel_2540\\933538887.py:1: DtypeWarning: Columns (13) have mixed types. Specify dtype option on import or set low_memory=False.\n",
      "  gas_dataframe = pd.concat((pd.read_csv(file,sep=';') for file in all_files))\n"
     ]
    }
   ],
   "source": [
    "gas_dataframe = pd.concat((pd.read_csv(file,sep=';') for file in all_files))"
   ]
  },
  {
   "cell_type": "code",
   "execution_count": 6,
   "metadata": {},
   "outputs": [],
   "source": [
    "# No index atual, temos vários números repetidos, pois os números se repetem a cada tabela. \n",
    "# Para consertar isso, iremos resetar o index, atribuindo assim uma única posição a cada elemento,\n",
    "# e dropando a coluna para que ela não continue no DF."
   ]
  },
  {
   "cell_type": "code",
   "execution_count": 7,
   "metadata": {},
   "outputs": [],
   "source": [
    "gas_dataframe = gas_dataframe.reset_index(drop=True)"
   ]
  },
  {
   "attachments": {},
   "cell_type": "markdown",
   "metadata": {},
   "source": [
    "## Limpeza e tratamento dos dados do Gás"
   ]
  },
  {
   "cell_type": "code",
   "execution_count": 8,
   "metadata": {},
   "outputs": [
    {
     "data": {
      "text/plain": [
       "Index(['Regiao - Sigla', 'Estado - Sigla', 'Municipio', 'Revenda',\n",
       "       'CNPJ da Revenda', 'Nome da Rua', 'Numero Rua', 'Complemento', 'Bairro',\n",
       "       'Cep', 'Produto', 'Data da Coleta', 'Valor de Venda', 'Valor de Compra',\n",
       "       'Unidade de Medida', 'Bandeira'],\n",
       "      dtype='object')"
      ]
     },
     "execution_count": 8,
     "metadata": {},
     "output_type": "execute_result"
    }
   ],
   "source": [
    "gas_dataframe.columns"
   ]
  },
  {
   "cell_type": "code",
   "execution_count": 9,
   "metadata": {},
   "outputs": [],
   "source": [
    "# Após identificar as colunas, substituo as colunas relevantes que contém algum caractere que possa atrapalhar na manipulação dos dados.\n",
    "# Os espaços são substituidos por _ , acentuações removidas (se existirem), além da padronização para letras minúsculas."
   ]
  },
  {
   "cell_type": "code",
   "execution_count": 10,
   "metadata": {},
   "outputs": [],
   "source": [
    "gas_dataframe = gas_dataframe.rename({'Data da Coleta': 'data',\n",
    "                            'Estado - Sigla': 'estado',\n",
    "                            'Regiao - Sigla':'regiao',\n",
    "                            'Valor de Venda':'valor_venda',\n",
    "                            'Valor de Compra':'valor_compra',\n",
    "                            'Revenda':'revenda',\n",
    "                            'CNPJ da Revenda':'cnpj_revenda',\n",
    "                            'Nome da Rua':'nome_rua',}, axis=1)"
   ]
  },
  {
   "cell_type": "code",
   "execution_count": 11,
   "metadata": {},
   "outputs": [
    {
     "data": {
      "text/plain": [
       "R$ / 13 kg    5435881\n",
       "Name: Unidade de Medida, dtype: int64"
      ]
     },
     "execution_count": 11,
     "metadata": {},
     "output_type": "execute_result"
    }
   ],
   "source": [
    "gas_dataframe['Unidade de Medida'].value_counts() # Verificação se a unidade de medida varia."
   ]
  },
  {
   "cell_type": "code",
   "execution_count": 12,
   "metadata": {},
   "outputs": [],
   "source": [
    "# Transformando a data de coleta em um DateTime para facilitar possíveis operações."
   ]
  },
  {
   "cell_type": "code",
   "execution_count": 13,
   "metadata": {},
   "outputs": [],
   "source": [
    "gas_dataframe['data'] = pd.to_datetime(gas_dataframe['data'], format='%d/%m/%Y') "
   ]
  },
  {
   "cell_type": "code",
   "execution_count": 14,
   "metadata": {},
   "outputs": [],
   "source": [
    "# Corrigindo a coluna de valor de venda, que acusava tipos diferentes (int + str), por conta da padronização decimal brasileira.\n",
    "# Aqui, substituo a \",\" por \".\" nas strs e em seguida transformo todos os valores em float, padronizando-os.\n",
    "\n",
    "gas_dataframe['valor_venda'] = pd.to_numeric(gas_dataframe['valor_venda'].apply(lambda x: x.replace(',', '.')))"
   ]
  },
  {
   "cell_type": "code",
   "execution_count": 15,
   "metadata": {},
   "outputs": [
    {
     "data": {
      "text/html": [
       "<div>\n",
       "<style scoped>\n",
       "    .dataframe tbody tr th:only-of-type {\n",
       "        vertical-align: middle;\n",
       "    }\n",
       "\n",
       "    .dataframe tbody tr th {\n",
       "        vertical-align: top;\n",
       "    }\n",
       "\n",
       "    .dataframe thead th {\n",
       "        text-align: right;\n",
       "    }\n",
       "</style>\n",
       "<table border=\"1\" class=\"dataframe\">\n",
       "  <thead>\n",
       "    <tr style=\"text-align: right;\">\n",
       "      <th></th>\n",
       "      <th>regiao</th>\n",
       "      <th>estado</th>\n",
       "      <th>Municipio</th>\n",
       "      <th>revenda</th>\n",
       "      <th>cnpj_revenda</th>\n",
       "      <th>nome_rua</th>\n",
       "      <th>Numero Rua</th>\n",
       "      <th>Complemento</th>\n",
       "      <th>Bairro</th>\n",
       "      <th>Cep</th>\n",
       "      <th>Produto</th>\n",
       "      <th>data</th>\n",
       "      <th>valor_venda</th>\n",
       "      <th>valor_compra</th>\n",
       "      <th>Unidade de Medida</th>\n",
       "      <th>Bandeira</th>\n",
       "    </tr>\n",
       "  </thead>\n",
       "  <tbody>\n",
       "    <tr>\n",
       "      <th>0</th>\n",
       "      <td>SE</td>\n",
       "      <td>SP</td>\n",
       "      <td>SAO PAULO</td>\n",
       "      <td>COMPANHIA ULTRAGAZ S A</td>\n",
       "      <td>61.602.199/0240-54</td>\n",
       "      <td>RUA VICTÓRIO PRIMON</td>\n",
       "      <td>585</td>\n",
       "      <td>NaN</td>\n",
       "      <td>LIMÃO</td>\n",
       "      <td>02550-050</td>\n",
       "      <td>GLP</td>\n",
       "      <td>2004-05-11</td>\n",
       "      <td>29.8</td>\n",
       "      <td>NaN</td>\n",
       "      <td>R$ / 13 kg</td>\n",
       "      <td>BRANCA</td>\n",
       "    </tr>\n",
       "    <tr>\n",
       "      <th>1</th>\n",
       "      <td>SE</td>\n",
       "      <td>SP</td>\n",
       "      <td>AMERICANA</td>\n",
       "      <td>COMPANHIA ULTRAGAZ S A</td>\n",
       "      <td>61.602.199/0264-21</td>\n",
       "      <td>RUA ORLANDO DEI SANTI</td>\n",
       "      <td>1286</td>\n",
       "      <td>NaN</td>\n",
       "      <td>JD. AMERICA</td>\n",
       "      <td>13477-000</td>\n",
       "      <td>GLP</td>\n",
       "      <td>2004-05-11</td>\n",
       "      <td>30.0</td>\n",
       "      <td>NaN</td>\n",
       "      <td>R$ / 13 kg</td>\n",
       "      <td>BRANCA</td>\n",
       "    </tr>\n",
       "  </tbody>\n",
       "</table>\n",
       "</div>"
      ],
      "text/plain": [
       "  regiao estado  Municipio                 revenda         cnpj_revenda  \\\n",
       "0     SE     SP  SAO PAULO  COMPANHIA ULTRAGAZ S A   61.602.199/0240-54   \n",
       "1     SE     SP  AMERICANA  COMPANHIA ULTRAGAZ S A   61.602.199/0264-21   \n",
       "\n",
       "                nome_rua Numero Rua Complemento       Bairro        Cep  \\\n",
       "0    RUA VICTÓRIO PRIMON        585         NaN        LIMÃO  02550-050   \n",
       "1  RUA ORLANDO DEI SANTI       1286         NaN  JD. AMERICA  13477-000   \n",
       "\n",
       "  Produto       data  valor_venda valor_compra Unidade de Medida Bandeira  \n",
       "0     GLP 2004-05-11         29.8          NaN        R$ / 13 kg   BRANCA  \n",
       "1     GLP 2004-05-11         30.0          NaN        R$ / 13 kg   BRANCA  "
      ]
     },
     "execution_count": 15,
     "metadata": {},
     "output_type": "execute_result"
    }
   ],
   "source": [
    "gas_dataframe.head(2)"
   ]
  },
  {
   "cell_type": "code",
   "execution_count": 16,
   "metadata": {},
   "outputs": [],
   "source": [
    "# Com isso, nossa limpeza inicial está completa. Caso veja a necessidade durante o decorrer da análise, adicionarei os próximos passos da limpeza abaixo."
   ]
  },
  {
   "attachments": {},
   "cell_type": "markdown",
   "metadata": {},
   "source": [
    "____________"
   ]
  },
  {
   "attachments": {},
   "cell_type": "markdown",
   "metadata": {},
   "source": [
    "# Salário Mínimo"
   ]
  },
  {
   "cell_type": "code",
   "execution_count": 17,
   "metadata": {},
   "outputs": [],
   "source": [
    "url_sm = 'http://www.ipeadata.gov.br/exibeserie.aspx?stub=1&serid1739471028=1739471028'"
   ]
  },
  {
   "cell_type": "code",
   "execution_count": 18,
   "metadata": {},
   "outputs": [],
   "source": [
    "# Os dados do salário mínimo estão disponíveis no site do IPEA de forma mais simplificada do que no portal de dados do governo (devido ao JavaScript usado no portal),\n",
    "# então coletar esses dados pode ser realizado de forma muito mais simples, usando apenas o método get e lendo o conteúdo da página. Ali, identificamos a tabela que precisamos:"
   ]
  },
  {
   "cell_type": "code",
   "execution_count": 19,
   "metadata": {},
   "outputs": [],
   "source": [
    "pag_html = requests.get(url_sm)\n",
    "df_list = pd.read_html(pag_html.text)"
   ]
  },
  {
   "cell_type": "code",
   "execution_count": 20,
   "metadata": {},
   "outputs": [
    {
     "data": {
      "text/html": [
       "<div>\n",
       "<style scoped>\n",
       "    .dataframe tbody tr th:only-of-type {\n",
       "        vertical-align: middle;\n",
       "    }\n",
       "\n",
       "    .dataframe tbody tr th {\n",
       "        vertical-align: top;\n",
       "    }\n",
       "\n",
       "    .dataframe thead th {\n",
       "        text-align: right;\n",
       "    }\n",
       "</style>\n",
       "<table border=\"1\" class=\"dataframe\">\n",
       "  <thead>\n",
       "    <tr style=\"text-align: right;\">\n",
       "      <th></th>\n",
       "      <th>0</th>\n",
       "      <th>1</th>\n",
       "    </tr>\n",
       "  </thead>\n",
       "  <tbody>\n",
       "    <tr>\n",
       "      <th>0</th>\n",
       "      <td>Data</td>\n",
       "      <td>Salário mínimo vigente</td>\n",
       "    </tr>\n",
       "    <tr>\n",
       "      <th>1</th>\n",
       "      <td>1940.07</td>\n",
       "      <td>87273E-14</td>\n",
       "    </tr>\n",
       "    <tr>\n",
       "      <th>2</th>\n",
       "      <td>1940.08</td>\n",
       "      <td>87273E-14</td>\n",
       "    </tr>\n",
       "    <tr>\n",
       "      <th>3</th>\n",
       "      <td>1940.09</td>\n",
       "      <td>87273E-14</td>\n",
       "    </tr>\n",
       "    <tr>\n",
       "      <th>4</th>\n",
       "      <td>1940.10</td>\n",
       "      <td>87273E-14</td>\n",
       "    </tr>\n",
       "    <tr>\n",
       "      <th>...</th>\n",
       "      <td>...</td>\n",
       "      <td>...</td>\n",
       "    </tr>\n",
       "    <tr>\n",
       "      <th>986</th>\n",
       "      <td>2022.08</td>\n",
       "      <td>1.212,00</td>\n",
       "    </tr>\n",
       "    <tr>\n",
       "      <th>987</th>\n",
       "      <td>2022.09</td>\n",
       "      <td>1.212,00</td>\n",
       "    </tr>\n",
       "    <tr>\n",
       "      <th>988</th>\n",
       "      <td>2022.10</td>\n",
       "      <td>1.212,00</td>\n",
       "    </tr>\n",
       "    <tr>\n",
       "      <th>989</th>\n",
       "      <td>2022.11</td>\n",
       "      <td>1.212,00</td>\n",
       "    </tr>\n",
       "    <tr>\n",
       "      <th>990</th>\n",
       "      <td>2022.12</td>\n",
       "      <td>1.212,00</td>\n",
       "    </tr>\n",
       "  </tbody>\n",
       "</table>\n",
       "<p>991 rows × 2 columns</p>\n",
       "</div>"
      ],
      "text/plain": [
       "           0                       1\n",
       "0       Data  Salário mínimo vigente\n",
       "1    1940.07               87273E-14\n",
       "2    1940.08               87273E-14\n",
       "3    1940.09               87273E-14\n",
       "4    1940.10               87273E-14\n",
       "..       ...                     ...\n",
       "986  2022.08                1.212,00\n",
       "987  2022.09                1.212,00\n",
       "988  2022.10                1.212,00\n",
       "989  2022.11                1.212,00\n",
       "990  2022.12                1.212,00\n",
       "\n",
       "[991 rows x 2 columns]"
      ]
     },
     "execution_count": 20,
     "metadata": {},
     "output_type": "execute_result"
    }
   ],
   "source": [
    "df_list[2]"
   ]
  },
  {
   "cell_type": "code",
   "execution_count": 21,
   "metadata": {},
   "outputs": [],
   "source": [
    "# Atribuindo os headers das colunas em seus devidos lugares"
   ]
  },
  {
   "cell_type": "code",
   "execution_count": 22,
   "metadata": {},
   "outputs": [
    {
     "data": {
      "text/html": [
       "<div>\n",
       "<style scoped>\n",
       "    .dataframe tbody tr th:only-of-type {\n",
       "        vertical-align: middle;\n",
       "    }\n",
       "\n",
       "    .dataframe tbody tr th {\n",
       "        vertical-align: top;\n",
       "    }\n",
       "\n",
       "    .dataframe thead th {\n",
       "        text-align: right;\n",
       "    }\n",
       "</style>\n",
       "<table border=\"1\" class=\"dataframe\">\n",
       "  <thead>\n",
       "    <tr style=\"text-align: right;\">\n",
       "      <th></th>\n",
       "      <th>Data</th>\n",
       "      <th>Salário mínimo vigente</th>\n",
       "    </tr>\n",
       "  </thead>\n",
       "  <tbody>\n",
       "    <tr>\n",
       "      <th>1</th>\n",
       "      <td>1940.07</td>\n",
       "      <td>87273E-14</td>\n",
       "    </tr>\n",
       "    <tr>\n",
       "      <th>2</th>\n",
       "      <td>1940.08</td>\n",
       "      <td>87273E-14</td>\n",
       "    </tr>\n",
       "    <tr>\n",
       "      <th>3</th>\n",
       "      <td>1940.09</td>\n",
       "      <td>87273E-14</td>\n",
       "    </tr>\n",
       "    <tr>\n",
       "      <th>4</th>\n",
       "      <td>1940.10</td>\n",
       "      <td>87273E-14</td>\n",
       "    </tr>\n",
       "    <tr>\n",
       "      <th>5</th>\n",
       "      <td>1940.11</td>\n",
       "      <td>87273E-14</td>\n",
       "    </tr>\n",
       "  </tbody>\n",
       "</table>\n",
       "</div>"
      ],
      "text/plain": [
       "      Data Salário mínimo vigente\n",
       "1  1940.07              87273E-14\n",
       "2  1940.08              87273E-14\n",
       "3  1940.09              87273E-14\n",
       "4  1940.10              87273E-14\n",
       "5  1940.11              87273E-14"
      ]
     },
     "execution_count": 22,
     "metadata": {},
     "output_type": "execute_result"
    }
   ],
   "source": [
    "salario_geral = df_list[2].rename(columns=df_list[2].iloc[0]).drop(0)\n",
    "salario_geral.head()"
   ]
  },
  {
   "cell_type": "code",
   "execution_count": 23,
   "metadata": {},
   "outputs": [],
   "source": [
    "# Prosseguimos com a limpeza, alterando a data para o formato correto e atribuindo o resultado como index.\n",
    "# Aproveito também para trocar o nome da coluna salário, de forma que a acentuação e espaços não atrapalhem nas consultas."
   ]
  },
  {
   "cell_type": "code",
   "execution_count": 24,
   "metadata": {},
   "outputs": [],
   "source": [
    "salario_geral['Data'] = pd.to_datetime(salario_geral['Data'], format='%Y/%m')\n",
    "salario_geral = salario_geral.set_index('Data')\n",
    "salario_geral = salario_geral.rename({'Salário mínimo vigente':'Salario'},axis=1)\n"
   ]
  },
  {
   "cell_type": "code",
   "execution_count": 25,
   "metadata": {},
   "outputs": [],
   "source": [
    "# Aqui, faço um slice no salário usando como data de inicio o mês que obtemos a primeira média de preços com os registros do gás (Feito mais abaixo, na seção _________).\n",
    "# Além disso, os números estão despadronizados, alguns com 0's a mais, os últimos que chegam aos milhares contam com . e , na mesma string\n",
    "# Então, aproveito para tratar e remover os centavos 0's a mais, transformando-o para int."
   ]
  },
  {
   "cell_type": "code",
   "execution_count": 26,
   "metadata": {},
   "outputs": [],
   "source": [
    "salario_selecionado = salario_geral.loc['2004-06':'2020'].copy()\n",
    "salario_selecionado['Salario'] = (salario_selecionado.Salario.apply(lambda x: x[:-2].replace((','), '')))\n",
    "salario_selecionado['Salario'] = pd.to_numeric(salario_selecionado.Salario.apply(lambda x: x.replace('.', '')))"
   ]
  },
  {
   "cell_type": "code",
   "execution_count": 27,
   "metadata": {},
   "outputs": [
    {
     "data": {
      "text/plain": [
       "Data\n",
       "2004-06-01     260\n",
       "2004-07-01     260\n",
       "2004-08-01     260\n",
       "2004-09-01     260\n",
       "2004-10-01     260\n",
       "              ... \n",
       "2020-08-01    1045\n",
       "2020-09-01    1045\n",
       "2020-10-01    1045\n",
       "2020-11-01    1045\n",
       "2020-12-01    1045\n",
       "Name: Salario, Length: 199, dtype: int64"
      ]
     },
     "execution_count": 27,
     "metadata": {},
     "output_type": "execute_result"
    }
   ],
   "source": [
    "salario_selecionado.Salario"
   ]
  },
  {
   "cell_type": "code",
   "execution_count": 28,
   "metadata": {},
   "outputs": [],
   "source": [
    "#\n",
    "# Ideia: Plotar por cima do grafico abaixo um segundo com marcadores nos momentos que ocorre aumento salarial (coluna separada identificando? outro dataset?)\n",
    "# Cuidado: Poluição visual. Talvez seja necessário remover o grid"
   ]
  },
  {
   "cell_type": "code",
   "execution_count": 29,
   "metadata": {},
   "outputs": [
    {
     "data": {
      "image/png": "[encoded data removed]",
      "text/plain": [
       "<Figure size 640x480 with 1 Axes>"
      ]
     },
     "metadata": {},
     "output_type": "display_data"
    }
   ],
   "source": [
    "salario_selecionado.plot(kind='line', ylim=(200,1100))\n",
    "plt.title('Evolução salarial 2004-2020')\n",
    "plt.grid(which='major', axis='y')\n",
    "\n",
    "plt.xlabel('')\n",
    "plt.xticks(rotation=45)\n",
    "\n",
    "plt.legend(['Salario (em R$)'])\n",
    "plt.show()"
   ]
  },
  {
   "cell_type": "code",
   "execution_count": 30,
   "metadata": {},
   "outputs": [],
   "source": [
    "# Podemos observar que o crescimento de salários ocorre de maneira irregular ao longo dos anos, variando até mesmo o intervalo de tempo em que é aumentado.\n",
    "# Um claro exemplo disso ocorre entre 2010 e 2011, onde o salário é aumentado duas vezes em um intervalo de 4 meses (Em Janeiro e março ocorrem aumentos),\n",
    "# para se estabilizar novamente até o final daquele ano."
   ]
  },
  {
   "cell_type": "code",
   "execution_count": 31,
   "metadata": {},
   "outputs": [
    {
     "data": {
      "text/html": [
       "<div>\n",
       "<style scoped>\n",
       "    .dataframe tbody tr th:only-of-type {\n",
       "        vertical-align: middle;\n",
       "    }\n",
       "\n",
       "    .dataframe tbody tr th {\n",
       "        vertical-align: top;\n",
       "    }\n",
       "\n",
       "    .dataframe thead th {\n",
       "        text-align: right;\n",
       "    }\n",
       "</style>\n",
       "<table border=\"1\" class=\"dataframe\">\n",
       "  <thead>\n",
       "    <tr style=\"text-align: right;\">\n",
       "      <th></th>\n",
       "      <th>Salario</th>\n",
       "    </tr>\n",
       "    <tr>\n",
       "      <th>Data</th>\n",
       "      <th></th>\n",
       "    </tr>\n",
       "  </thead>\n",
       "  <tbody>\n",
       "    <tr>\n",
       "      <th>2010-11-01</th>\n",
       "      <td>510</td>\n",
       "    </tr>\n",
       "    <tr>\n",
       "      <th>2010-12-01</th>\n",
       "      <td>510</td>\n",
       "    </tr>\n",
       "    <tr>\n",
       "      <th>2011-01-01</th>\n",
       "      <td>540</td>\n",
       "    </tr>\n",
       "    <tr>\n",
       "      <th>2011-02-01</th>\n",
       "      <td>540</td>\n",
       "    </tr>\n",
       "    <tr>\n",
       "      <th>2011-03-01</th>\n",
       "      <td>545</td>\n",
       "    </tr>\n",
       "  </tbody>\n",
       "</table>\n",
       "</div>"
      ],
      "text/plain": [
       "            Salario\n",
       "Data               \n",
       "2010-11-01      510\n",
       "2010-12-01      510\n",
       "2011-01-01      540\n",
       "2011-02-01      540\n",
       "2011-03-01      545"
      ]
     },
     "execution_count": 31,
     "metadata": {},
     "output_type": "execute_result"
    }
   ],
   "source": [
    "salario_selecionado['2010-11':'2011-03']"
   ]
  },
  {
   "attachments": {},
   "cell_type": "markdown",
   "metadata": {},
   "source": [
    "_________"
   ]
  },
  {
   "attachments": {},
   "cell_type": "markdown",
   "metadata": {},
   "source": [
    "# GLP: Unificando as diversas coletas para uma frequência mensal"
   ]
  },
  {
   "cell_type": "code",
   "execution_count": 32,
   "metadata": {},
   "outputs": [
    {
     "data": {
      "text/html": [
       "<div>\n",
       "<style scoped>\n",
       "    .dataframe tbody tr th:only-of-type {\n",
       "        vertical-align: middle;\n",
       "    }\n",
       "\n",
       "    .dataframe tbody tr th {\n",
       "        vertical-align: top;\n",
       "    }\n",
       "\n",
       "    .dataframe thead th {\n",
       "        text-align: right;\n",
       "    }\n",
       "</style>\n",
       "<table border=\"1\" class=\"dataframe\">\n",
       "  <thead>\n",
       "    <tr style=\"text-align: right;\">\n",
       "      <th></th>\n",
       "      <th>regiao</th>\n",
       "      <th>estado</th>\n",
       "      <th>Municipio</th>\n",
       "      <th>revenda</th>\n",
       "      <th>cnpj_revenda</th>\n",
       "      <th>nome_rua</th>\n",
       "      <th>Numero Rua</th>\n",
       "      <th>Complemento</th>\n",
       "      <th>Bairro</th>\n",
       "      <th>Cep</th>\n",
       "      <th>Produto</th>\n",
       "      <th>data</th>\n",
       "      <th>valor_venda</th>\n",
       "      <th>valor_compra</th>\n",
       "      <th>Unidade de Medida</th>\n",
       "      <th>Bandeira</th>\n",
       "    </tr>\n",
       "  </thead>\n",
       "  <tbody>\n",
       "    <tr>\n",
       "      <th>0</th>\n",
       "      <td>SE</td>\n",
       "      <td>SP</td>\n",
       "      <td>SAO PAULO</td>\n",
       "      <td>COMPANHIA ULTRAGAZ S A</td>\n",
       "      <td>61.602.199/0240-54</td>\n",
       "      <td>RUA VICTÓRIO PRIMON</td>\n",
       "      <td>585</td>\n",
       "      <td>NaN</td>\n",
       "      <td>LIMÃO</td>\n",
       "      <td>02550-050</td>\n",
       "      <td>GLP</td>\n",
       "      <td>2004-05-11</td>\n",
       "      <td>29.8</td>\n",
       "      <td>NaN</td>\n",
       "      <td>R$ / 13 kg</td>\n",
       "      <td>BRANCA</td>\n",
       "    </tr>\n",
       "    <tr>\n",
       "      <th>1</th>\n",
       "      <td>SE</td>\n",
       "      <td>SP</td>\n",
       "      <td>AMERICANA</td>\n",
       "      <td>COMPANHIA ULTRAGAZ S A</td>\n",
       "      <td>61.602.199/0264-21</td>\n",
       "      <td>RUA ORLANDO DEI SANTI</td>\n",
       "      <td>1286</td>\n",
       "      <td>NaN</td>\n",
       "      <td>JD. AMERICA</td>\n",
       "      <td>13477-000</td>\n",
       "      <td>GLP</td>\n",
       "      <td>2004-05-11</td>\n",
       "      <td>30.0</td>\n",
       "      <td>NaN</td>\n",
       "      <td>R$ / 13 kg</td>\n",
       "      <td>BRANCA</td>\n",
       "    </tr>\n",
       "    <tr>\n",
       "      <th>2</th>\n",
       "      <td>SE</td>\n",
       "      <td>MG</td>\n",
       "      <td>IBIRITE</td>\n",
       "      <td>COPAGAZ DISTRIBUIDORA DE GÁS S/A.</td>\n",
       "      <td>03.237.583/0057-11</td>\n",
       "      <td>ESTRADA DO PETROVALE</td>\n",
       "      <td>50</td>\n",
       "      <td>A</td>\n",
       "      <td>PETROVALE</td>\n",
       "      <td>32400-000</td>\n",
       "      <td>GLP</td>\n",
       "      <td>2004-05-11</td>\n",
       "      <td>28.0</td>\n",
       "      <td>23,5</td>\n",
       "      <td>R$ / 13 kg</td>\n",
       "      <td>BRANCA</td>\n",
       "    </tr>\n",
       "    <tr>\n",
       "      <th>3</th>\n",
       "      <td>NE</td>\n",
       "      <td>PB</td>\n",
       "      <td>CABEDELO</td>\n",
       "      <td>NACIONAL GAS BUTANO DISTRIBUIDORA LTDA</td>\n",
       "      <td>06.980.064/0006-97</td>\n",
       "      <td>RUA PREFEITO ENIVALDO FIGUEIREDO MIRANDA</td>\n",
       "      <td>93</td>\n",
       "      <td>NaN</td>\n",
       "      <td>CENTRO</td>\n",
       "      <td>58310-000</td>\n",
       "      <td>GLP</td>\n",
       "      <td>2004-05-10</td>\n",
       "      <td>35.0</td>\n",
       "      <td>NaN</td>\n",
       "      <td>R$ / 13 kg</td>\n",
       "      <td>BRANCA</td>\n",
       "    </tr>\n",
       "    <tr>\n",
       "      <th>4</th>\n",
       "      <td>N</td>\n",
       "      <td>PA</td>\n",
       "      <td>MARABA</td>\n",
       "      <td>PARAGAS DISTRIBUIDORA LTDA.</td>\n",
       "      <td>05.840.319/0017-06</td>\n",
       "      <td>ROD. TRANSAMAZONICA,</td>\n",
       "      <td>1</td>\n",
       "      <td>KM 02, ESTRADA DO SORORO</td>\n",
       "      <td>CIDADE NOVA</td>\n",
       "      <td>68501-660</td>\n",
       "      <td>GLP</td>\n",
       "      <td>2004-05-10</td>\n",
       "      <td>31.9</td>\n",
       "      <td>NaN</td>\n",
       "      <td>R$ / 13 kg</td>\n",
       "      <td>BRANCA</td>\n",
       "    </tr>\n",
       "  </tbody>\n",
       "</table>\n",
       "</div>"
      ],
      "text/plain": [
       "  regiao estado  Municipio                                 revenda  \\\n",
       "0     SE     SP  SAO PAULO                  COMPANHIA ULTRAGAZ S A   \n",
       "1     SE     SP  AMERICANA                  COMPANHIA ULTRAGAZ S A   \n",
       "2     SE     MG    IBIRITE       COPAGAZ DISTRIBUIDORA DE GÁS S/A.   \n",
       "3     NE     PB   CABEDELO  NACIONAL GAS BUTANO DISTRIBUIDORA LTDA   \n",
       "4      N     PA     MARABA             PARAGAS DISTRIBUIDORA LTDA.   \n",
       "\n",
       "          cnpj_revenda                                  nome_rua Numero Rua  \\\n",
       "0   61.602.199/0240-54                       RUA VICTÓRIO PRIMON        585   \n",
       "1   61.602.199/0264-21                     RUA ORLANDO DEI SANTI       1286   \n",
       "2   03.237.583/0057-11                      ESTRADA DO PETROVALE         50   \n",
       "3   06.980.064/0006-97  RUA PREFEITO ENIVALDO FIGUEIREDO MIRANDA         93   \n",
       "4   05.840.319/0017-06                      ROD. TRANSAMAZONICA,          1   \n",
       "\n",
       "                Complemento       Bairro        Cep Produto       data  \\\n",
       "0                       NaN        LIMÃO  02550-050     GLP 2004-05-11   \n",
       "1                       NaN  JD. AMERICA  13477-000     GLP 2004-05-11   \n",
       "2                         A    PETROVALE  32400-000     GLP 2004-05-11   \n",
       "3                       NaN       CENTRO  58310-000     GLP 2004-05-10   \n",
       "4  KM 02, ESTRADA DO SORORO  CIDADE NOVA  68501-660     GLP 2004-05-10   \n",
       "\n",
       "   valor_venda valor_compra Unidade de Medida Bandeira  \n",
       "0         29.8          NaN        R$ / 13 kg   BRANCA  \n",
       "1         30.0          NaN        R$ / 13 kg   BRANCA  \n",
       "2         28.0         23,5        R$ / 13 kg   BRANCA  \n",
       "3         35.0          NaN        R$ / 13 kg   BRANCA  \n",
       "4         31.9          NaN        R$ / 13 kg   BRANCA  "
      ]
     },
     "execution_count": 32,
     "metadata": {},
     "output_type": "execute_result"
    }
   ],
   "source": [
    "gas_dataframe.head()"
   ]
  },
  {
   "cell_type": "code",
   "execution_count": 33,
   "metadata": {},
   "outputs": [
    {
     "data": {
      "text/html": [
       "<div>\n",
       "<style scoped>\n",
       "    .dataframe tbody tr th:only-of-type {\n",
       "        vertical-align: middle;\n",
       "    }\n",
       "\n",
       "    .dataframe tbody tr th {\n",
       "        vertical-align: top;\n",
       "    }\n",
       "\n",
       "    .dataframe thead th {\n",
       "        text-align: right;\n",
       "    }\n",
       "</style>\n",
       "<table border=\"1\" class=\"dataframe\">\n",
       "  <thead>\n",
       "    <tr style=\"text-align: right;\">\n",
       "      <th></th>\n",
       "      <th>data</th>\n",
       "      <th>valor_venda</th>\n",
       "    </tr>\n",
       "  </thead>\n",
       "  <tbody>\n",
       "    <tr>\n",
       "      <th>0</th>\n",
       "      <td>2004-05-31</td>\n",
       "      <td>30.333714</td>\n",
       "    </tr>\n",
       "    <tr>\n",
       "      <th>1</th>\n",
       "      <td>2004-06-30</td>\n",
       "      <td>30.298823</td>\n",
       "    </tr>\n",
       "    <tr>\n",
       "      <th>2</th>\n",
       "      <td>2004-07-31</td>\n",
       "      <td>30.330043</td>\n",
       "    </tr>\n",
       "    <tr>\n",
       "      <th>3</th>\n",
       "      <td>2004-08-31</td>\n",
       "      <td>30.224504</td>\n",
       "    </tr>\n",
       "    <tr>\n",
       "      <th>4</th>\n",
       "      <td>2004-09-30</td>\n",
       "      <td>30.106575</td>\n",
       "    </tr>\n",
       "    <tr>\n",
       "      <th>...</th>\n",
       "      <td>...</td>\n",
       "      <td>...</td>\n",
       "    </tr>\n",
       "    <tr>\n",
       "      <th>195</th>\n",
       "      <td>2020-08-31</td>\n",
       "      <td>71.045171</td>\n",
       "    </tr>\n",
       "    <tr>\n",
       "      <th>196</th>\n",
       "      <td>2020-09-30</td>\n",
       "      <td>NaN</td>\n",
       "    </tr>\n",
       "    <tr>\n",
       "      <th>197</th>\n",
       "      <td>2020-10-31</td>\n",
       "      <td>74.971385</td>\n",
       "    </tr>\n",
       "    <tr>\n",
       "      <th>198</th>\n",
       "      <td>2020-11-30</td>\n",
       "      <td>75.240802</td>\n",
       "    </tr>\n",
       "    <tr>\n",
       "      <th>199</th>\n",
       "      <td>2020-12-31</td>\n",
       "      <td>76.121099</td>\n",
       "    </tr>\n",
       "  </tbody>\n",
       "</table>\n",
       "<p>200 rows × 2 columns</p>\n",
       "</div>"
      ],
      "text/plain": [
       "          data  valor_venda\n",
       "0   2004-05-31    30.333714\n",
       "1   2004-06-30    30.298823\n",
       "2   2004-07-31    30.330043\n",
       "3   2004-08-31    30.224504\n",
       "4   2004-09-30    30.106575\n",
       "..         ...          ...\n",
       "195 2020-08-31    71.045171\n",
       "196 2020-09-30          NaN\n",
       "197 2020-10-31    74.971385\n",
       "198 2020-11-30    75.240802\n",
       "199 2020-12-31    76.121099\n",
       "\n",
       "[200 rows x 2 columns]"
      ]
     },
     "execution_count": 33,
     "metadata": {},
     "output_type": "execute_result"
    }
   ],
   "source": [
    "valor_glp_meses = gas_dataframe.resample(\"M\", on='data').mean().reset_index()\n",
    "valor_glp_meses"
   ]
  },
  {
   "cell_type": "code",
   "execution_count": 34,
   "metadata": {},
   "outputs": [],
   "source": [
    "# Percebemos a falta de um valor (NaN). O ano de 2020 nesse conjunto de dados apresenta um número muito menor de registros, e o mês de setembro inteiro (09)\n",
    "# não teve registros. Podemos observar isso fazendo uma query no dataframe geral, que não nos retorna nenhum resultado:"
   ]
  },
  {
   "cell_type": "code",
   "execution_count": 35,
   "metadata": {},
   "outputs": [
    {
     "data": {
      "text/html": [
       "<div>\n",
       "<style scoped>\n",
       "    .dataframe tbody tr th:only-of-type {\n",
       "        vertical-align: middle;\n",
       "    }\n",
       "\n",
       "    .dataframe tbody tr th {\n",
       "        vertical-align: top;\n",
       "    }\n",
       "\n",
       "    .dataframe thead th {\n",
       "        text-align: right;\n",
       "    }\n",
       "</style>\n",
       "<table border=\"1\" class=\"dataframe\">\n",
       "  <thead>\n",
       "    <tr style=\"text-align: right;\">\n",
       "      <th></th>\n",
       "      <th>regiao</th>\n",
       "      <th>estado</th>\n",
       "      <th>Municipio</th>\n",
       "      <th>revenda</th>\n",
       "      <th>cnpj_revenda</th>\n",
       "      <th>nome_rua</th>\n",
       "      <th>Numero Rua</th>\n",
       "      <th>Complemento</th>\n",
       "      <th>Bairro</th>\n",
       "      <th>Cep</th>\n",
       "      <th>Produto</th>\n",
       "      <th>data</th>\n",
       "      <th>valor_venda</th>\n",
       "      <th>valor_compra</th>\n",
       "      <th>Unidade de Medida</th>\n",
       "      <th>Bandeira</th>\n",
       "    </tr>\n",
       "  </thead>\n",
       "  <tbody>\n",
       "  </tbody>\n",
       "</table>\n",
       "</div>"
      ],
      "text/plain": [
       "Empty DataFrame\n",
       "Columns: [regiao, estado, Municipio, revenda, cnpj_revenda, nome_rua, Numero Rua, Complemento, Bairro, Cep, Produto, data, valor_venda, valor_compra, Unidade de Medida, Bandeira]\n",
       "Index: []"
      ]
     },
     "execution_count": 35,
     "metadata": {},
     "output_type": "execute_result"
    }
   ],
   "source": [
    "gas_dataframe[(gas_dataframe.data.dt.month == 9) & (gas_dataframe.data.dt.year == 2020)]"
   ]
  },
  {
   "cell_type": "code",
   "execution_count": 36,
   "metadata": {},
   "outputs": [],
   "source": [
    "# Para contornar o problema, preencheremos o valor de acordo com os que estão próximos a ele:"
   ]
  },
  {
   "cell_type": "code",
   "execution_count": 37,
   "metadata": {},
   "outputs": [
    {
     "data": {
      "text/html": [
       "<div>\n",
       "<style scoped>\n",
       "    .dataframe tbody tr th:only-of-type {\n",
       "        vertical-align: middle;\n",
       "    }\n",
       "\n",
       "    .dataframe tbody tr th {\n",
       "        vertical-align: top;\n",
       "    }\n",
       "\n",
       "    .dataframe thead th {\n",
       "        text-align: right;\n",
       "    }\n",
       "</style>\n",
       "<table border=\"1\" class=\"dataframe\">\n",
       "  <thead>\n",
       "    <tr style=\"text-align: right;\">\n",
       "      <th></th>\n",
       "      <th>data</th>\n",
       "      <th>valor_venda</th>\n",
       "    </tr>\n",
       "  </thead>\n",
       "  <tbody>\n",
       "  </tbody>\n",
       "</table>\n",
       "</div>"
      ],
      "text/plain": [
       "Empty DataFrame\n",
       "Columns: [data, valor_venda]\n",
       "Index: []"
      ]
     },
     "execution_count": 37,
     "metadata": {},
     "output_type": "execute_result"
    }
   ],
   "source": [
    "valor_glp_meses = valor_glp_meses.fillna(method='bfill')\n",
    "\n",
    "valor_glp_meses[valor_glp_meses.valor_venda.notna() == False] # Mostrando que não temos mais valores nulos"
   ]
  },
  {
   "cell_type": "code",
   "execution_count": 38,
   "metadata": {},
   "outputs": [],
   "source": [
    "# Agora que reduzimos nosso conjunto à média mensal do gás, podemos relacionar isso com os valores mensais do salário mínimo."
   ]
  },
  {
   "cell_type": "code",
   "execution_count": 39,
   "metadata": {},
   "outputs": [
    {
     "data": {
      "image/png": "[encoded data removed]",
      "text/plain": [
       "<Figure size 1600x800 with 1 Axes>"
      ]
     },
     "metadata": {},
     "output_type": "display_data"
    }
   ],
   "source": [
    "# Plotando a média do valor de venda em todo o território nacional no período de 2004 a 2020.\n",
    "\n",
    "ax = plt.subplots(figsize=(16,8))\n",
    "plt.title('Médias mensais do botijão de gás (2004-2020)')\n",
    "plt.xlabel('Ano')\n",
    "plt.ylabel('Valor de venda (R$)')\n",
    "plt.grid(axis='y')\n",
    "plt.ylim((20, 80))\n",
    "sns.lineplot(valor_glp_meses, x='data', y='valor_venda', marker='o', label='Mes')\n",
    "plt.show()"
   ]
  },
  {
   "cell_type": "code",
   "execution_count": 40,
   "metadata": {},
   "outputs": [],
   "source": [
    "# Podemos observar dois momentos de aumento brusco: Entre 2015 e 2016 e entre 2018 e 2019. \n",
    "\n",
    "# Pesquisar as possíveis causas."
   ]
  },
  {
   "attachments": {},
   "cell_type": "markdown",
   "metadata": {},
   "source": [
    "_________"
   ]
  },
  {
   "attachments": {},
   "cell_type": "markdown",
   "metadata": {},
   "source": [
    "# Utilizando ambos datasets"
   ]
  },
  {
   "attachments": {},
   "cell_type": "markdown",
   "metadata": {},
   "source": [
    "_______"
   ]
  },
  {
   "attachments": {},
   "cell_type": "markdown",
   "metadata": {},
   "source": [
    "# Anotações: "
   ]
  },
  {
   "attachments": {},
   "cell_type": "markdown",
   "metadata": {},
   "source": [
    "To_Do: Pesquisar e usar o selenium para interagir com o JS da página de dados do gov e coletar através dele."
   ]
  },
  {
   "attachments": {},
   "cell_type": "markdown",
   "metadata": {},
   "source": [
    "______"
   ]
  },
  {
   "attachments": {},
   "cell_type": "markdown",
   "metadata": {},
   "source": [
    "Verificar o preço em relação à inflação desde 2004"
   ]
  },
  {
   "attachments": {},
   "cell_type": "markdown",
   "metadata": {},
   "source": [
    "Verificar a quantidade de registros em cada um dos anos (2020 tem muitos registros faltantes). Observar a tendência ao longo dos anos."
   ]
  }
 ],
 "metadata": {
  "kernelspec": {
   "display_name": "Python 3",
   "language": "python",
   "name": "python3"
  },
  "language_info": {
   "codemirror_mode": {
    "name": "ipython",
    "version": 3
   },
   "file_extension": ".py",
   "mimetype": "text/x-python",
   "name": "python",
   "nbconvert_exporter": "python",
   "pygments_lexer": "ipython3",
   "version": "3.9.6"
  },
  "orig_nbformat": 4,
  "vscode": {
   "interpreter": {
    "hash": "11938c6bc6919ae2720b4d5011047913343b08a43b18698fd82dedb0d4417594"
   }
  }
 },
 "nbformat": 4,
 "nbformat_minor": 2
}
